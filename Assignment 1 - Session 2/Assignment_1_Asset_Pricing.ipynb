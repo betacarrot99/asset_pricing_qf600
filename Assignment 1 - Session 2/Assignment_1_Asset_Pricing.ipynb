{
 "cells": [
  {
   "cell_type": "code",
   "execution_count": 1,
   "id": "72fd4450-f3a3-4f8a-ac25-e42df26910f6",
   "metadata": {},
   "outputs": [],
   "source": [
    "import pandas as pd\n",
    "import numpy as np\n",
    "import matplotlib.pyplot as plt"
   ]
  },
  {
   "cell_type": "code",
   "execution_count": 2,
   "id": "88e341ea-0d3a-4788-a4cf-c3f3ae7b2d92",
   "metadata": {},
   "outputs": [
    {
     "name": "stderr",
     "output_type": "stream",
     "text": [
      "/opt/anaconda3/lib/python3.12/site-packages/openpyxl/worksheet/_read_only.py:81: UserWarning: Unknown extension is not supported and will be removed\n",
      "  for idx, row in parser.parse():\n"
     ]
    }
   ],
   "source": [
    "df = pd.read_excel('Industry_Portfolios.xlsx')"
   ]
  },
  {
   "cell_type": "code",
   "execution_count": 3,
   "id": "970d16b1-8b31-443a-bc29-180ce60ce25d",
   "metadata": {},
   "outputs": [],
   "source": [
    "df = df.set_index('Date')"
   ]
  },
  {
   "cell_type": "code",
   "execution_count": 4,
   "id": "ba1f668d-c95a-4a7e-be20-1a7beb46e7e8",
   "metadata": {},
   "outputs": [
    {
     "data": {
      "text/html": [
       "<div>\n",
       "<style scoped>\n",
       "    .dataframe tbody tr th:only-of-type {\n",
       "        vertical-align: middle;\n",
       "    }\n",
       "\n",
       "    .dataframe tbody tr th {\n",
       "        vertical-align: top;\n",
       "    }\n",
       "\n",
       "    .dataframe thead th {\n",
       "        text-align: right;\n",
       "    }\n",
       "</style>\n",
       "<table border=\"1\" class=\"dataframe\">\n",
       "  <thead>\n",
       "    <tr style=\"text-align: right;\">\n",
       "      <th></th>\n",
       "      <th>NoDur</th>\n",
       "      <th>Durbl</th>\n",
       "      <th>Manuf</th>\n",
       "      <th>Enrgy</th>\n",
       "      <th>HiTec</th>\n",
       "      <th>Telcm</th>\n",
       "      <th>Shops</th>\n",
       "      <th>Hlth</th>\n",
       "      <th>Utils</th>\n",
       "      <th>Other</th>\n",
       "    </tr>\n",
       "    <tr>\n",
       "      <th>Date</th>\n",
       "      <th></th>\n",
       "      <th></th>\n",
       "      <th></th>\n",
       "      <th></th>\n",
       "      <th></th>\n",
       "      <th></th>\n",
       "      <th></th>\n",
       "      <th></th>\n",
       "      <th></th>\n",
       "      <th></th>\n",
       "    </tr>\n",
       "  </thead>\n",
       "  <tbody>\n",
       "    <tr>\n",
       "      <th>200401</th>\n",
       "      <td>0.06</td>\n",
       "      <td>-1.07</td>\n",
       "      <td>-0.62</td>\n",
       "      <td>0.44</td>\n",
       "      <td>4.53</td>\n",
       "      <td>1.41</td>\n",
       "      <td>0.45</td>\n",
       "      <td>3.09</td>\n",
       "      <td>1.92</td>\n",
       "      <td>2.88</td>\n",
       "    </tr>\n",
       "    <tr>\n",
       "      <th>200402</th>\n",
       "      <td>4.25</td>\n",
       "      <td>-0.07</td>\n",
       "      <td>1.95</td>\n",
       "      <td>4.69</td>\n",
       "      <td>-2.92</td>\n",
       "      <td>-0.52</td>\n",
       "      <td>6.09</td>\n",
       "      <td>0.89</td>\n",
       "      <td>2.07</td>\n",
       "      <td>2.16</td>\n",
       "    </tr>\n",
       "    <tr>\n",
       "      <th>200403</th>\n",
       "      <td>-0.09</td>\n",
       "      <td>-1.15</td>\n",
       "      <td>-0.27</td>\n",
       "      <td>-0.13</td>\n",
       "      <td>-2.55</td>\n",
       "      <td>-2.07</td>\n",
       "      <td>0.29</td>\n",
       "      <td>-3.96</td>\n",
       "      <td>1.13</td>\n",
       "      <td>-0.63</td>\n",
       "    </tr>\n",
       "    <tr>\n",
       "      <th>200404</th>\n",
       "      <td>1.42</td>\n",
       "      <td>2.30</td>\n",
       "      <td>-0.17</td>\n",
       "      <td>2.52</td>\n",
       "      <td>-4.91</td>\n",
       "      <td>-0.48</td>\n",
       "      <td>-2.70</td>\n",
       "      <td>3.54</td>\n",
       "      <td>-3.55</td>\n",
       "      <td>-3.76</td>\n",
       "    </tr>\n",
       "    <tr>\n",
       "      <th>200405</th>\n",
       "      <td>-1.89</td>\n",
       "      <td>-1.64</td>\n",
       "      <td>1.61</td>\n",
       "      <td>0.39</td>\n",
       "      <td>4.85</td>\n",
       "      <td>-2.95</td>\n",
       "      <td>0.30</td>\n",
       "      <td>-0.42</td>\n",
       "      <td>1.28</td>\n",
       "      <td>1.86</td>\n",
       "    </tr>\n",
       "    <tr>\n",
       "      <th>...</th>\n",
       "      <td>...</td>\n",
       "      <td>...</td>\n",
       "      <td>...</td>\n",
       "      <td>...</td>\n",
       "      <td>...</td>\n",
       "      <td>...</td>\n",
       "      <td>...</td>\n",
       "      <td>...</td>\n",
       "      <td>...</td>\n",
       "      <td>...</td>\n",
       "    </tr>\n",
       "    <tr>\n",
       "      <th>201308</th>\n",
       "      <td>-4.00</td>\n",
       "      <td>-1.00</td>\n",
       "      <td>-1.95</td>\n",
       "      <td>-1.83</td>\n",
       "      <td>-0.12</td>\n",
       "      <td>-3.28</td>\n",
       "      <td>-4.21</td>\n",
       "      <td>-3.49</td>\n",
       "      <td>-4.43</td>\n",
       "      <td>-3.66</td>\n",
       "    </tr>\n",
       "    <tr>\n",
       "      <th>201309</th>\n",
       "      <td>1.94</td>\n",
       "      <td>6.46</td>\n",
       "      <td>5.20</td>\n",
       "      <td>2.03</td>\n",
       "      <td>3.77</td>\n",
       "      <td>4.33</td>\n",
       "      <td>4.46</td>\n",
       "      <td>4.19</td>\n",
       "      <td>1.05</td>\n",
       "      <td>3.83</td>\n",
       "    </tr>\n",
       "    <tr>\n",
       "      <th>201310</th>\n",
       "      <td>4.75</td>\n",
       "      <td>0.72</td>\n",
       "      <td>4.56</td>\n",
       "      <td>4.86</td>\n",
       "      <td>3.80</td>\n",
       "      <td>5.52</td>\n",
       "      <td>5.08</td>\n",
       "      <td>3.47</td>\n",
       "      <td>3.35</td>\n",
       "      <td>3.87</td>\n",
       "    </tr>\n",
       "    <tr>\n",
       "      <th>201311</th>\n",
       "      <td>1.29</td>\n",
       "      <td>1.81</td>\n",
       "      <td>2.95</td>\n",
       "      <td>0.85</td>\n",
       "      <td>3.65</td>\n",
       "      <td>0.27</td>\n",
       "      <td>3.67</td>\n",
       "      <td>4.54</td>\n",
       "      <td>-1.81</td>\n",
       "      <td>4.74</td>\n",
       "    </tr>\n",
       "    <tr>\n",
       "      <th>201312</th>\n",
       "      <td>2.65</td>\n",
       "      <td>1.18</td>\n",
       "      <td>3.13</td>\n",
       "      <td>2.95</td>\n",
       "      <td>4.04</td>\n",
       "      <td>3.96</td>\n",
       "      <td>0.20</td>\n",
       "      <td>0.71</td>\n",
       "      <td>1.79</td>\n",
       "      <td>3.11</td>\n",
       "    </tr>\n",
       "  </tbody>\n",
       "</table>\n",
       "<p>120 rows × 10 columns</p>\n",
       "</div>"
      ],
      "text/plain": [
       "        NoDur  Durbl  Manuf  Enrgy  HiTec  Telcm  Shops  Hlth  Utils  Other\n",
       "Date                                                                       \n",
       "200401   0.06  -1.07  -0.62   0.44   4.53   1.41   0.45  3.09   1.92   2.88\n",
       "200402   4.25  -0.07   1.95   4.69  -2.92  -0.52   6.09  0.89   2.07   2.16\n",
       "200403  -0.09  -1.15  -0.27  -0.13  -2.55  -2.07   0.29 -3.96   1.13  -0.63\n",
       "200404   1.42   2.30  -0.17   2.52  -4.91  -0.48  -2.70  3.54  -3.55  -3.76\n",
       "200405  -1.89  -1.64   1.61   0.39   4.85  -2.95   0.30 -0.42   1.28   1.86\n",
       "...       ...    ...    ...    ...    ...    ...    ...   ...    ...    ...\n",
       "201308  -4.00  -1.00  -1.95  -1.83  -0.12  -3.28  -4.21 -3.49  -4.43  -3.66\n",
       "201309   1.94   6.46   5.20   2.03   3.77   4.33   4.46  4.19   1.05   3.83\n",
       "201310   4.75   0.72   4.56   4.86   3.80   5.52   5.08  3.47   3.35   3.87\n",
       "201311   1.29   1.81   2.95   0.85   3.65   0.27   3.67  4.54  -1.81   4.74\n",
       "201312   2.65   1.18   3.13   2.95   4.04   3.96   0.20  0.71   1.79   3.11\n",
       "\n",
       "[120 rows x 10 columns]"
      ]
     },
     "execution_count": 4,
     "metadata": {},
     "output_type": "execute_result"
    }
   ],
   "source": [
    "df"
   ]
  },
  {
   "cell_type": "markdown",
   "id": "9fd11300-9093-4dbc-bfd2-53b39eedad22",
   "metadata": {},
   "source": [
    "# **Create a table showing the mean return and standard deviation of return for the ten industry portfolios.**"
   ]
  },
  {
   "cell_type": "code",
   "execution_count": 6,
   "id": "9eaf6478-2663-4883-b52b-3a7f451ae85d",
   "metadata": {},
   "outputs": [
    {
     "data": {
      "text/plain": [
       "Index(['NoDur', 'Durbl', 'Manuf', 'Enrgy', 'HiTec', 'Telcm', 'Shops', 'Hlth',\n",
       "       'Utils', 'Other'],\n",
       "      dtype='object')"
      ]
     },
     "execution_count": 6,
     "metadata": {},
     "output_type": "execute_result"
    }
   ],
   "source": [
    "list_industry = df.columns\n",
    "list_industry"
   ]
  },
  {
   "cell_type": "code",
   "execution_count": 7,
   "id": "e5f30f50-068b-4743-a03e-4cda256902f9",
   "metadata": {},
   "outputs": [],
   "source": [
    "new_df = pd.DataFrame()\n",
    "mean_list=[]\n",
    "std_list=[]\n",
    "\n",
    "for i in list_industry:\n",
    "    mean = mean_list.append(df[i].mean())\n",
    "    std = std_list.append(df[i].std())\n"
   ]
  },
  {
   "cell_type": "code",
   "execution_count": 8,
   "id": "5c21d160-d87f-4f3f-a68d-5bb74b9428ec",
   "metadata": {},
   "outputs": [],
   "source": [
    "data = {'portfolio':df.columns, 'mean_return':mean_list, 'std_deviation':std_list}\n",
    "df2 = pd.DataFrame(data)"
   ]
  },
  {
   "cell_type": "code",
   "execution_count": 9,
   "id": "1fd339ab-9fe2-4f1e-9871-86b5396c3e43",
   "metadata": {},
   "outputs": [],
   "source": [
    "df2 = df2.set_index('portfolio')"
   ]
  },
  {
   "cell_type": "code",
   "execution_count": 10,
   "id": "87b183ef-4b48-4d1a-9aa1-8d2a1a33221d",
   "metadata": {},
   "outputs": [
    {
     "data": {
      "text/html": [
       "<div>\n",
       "<style scoped>\n",
       "    .dataframe tbody tr th:only-of-type {\n",
       "        vertical-align: middle;\n",
       "    }\n",
       "\n",
       "    .dataframe tbody tr th {\n",
       "        vertical-align: top;\n",
       "    }\n",
       "\n",
       "    .dataframe thead th {\n",
       "        text-align: right;\n",
       "    }\n",
       "</style>\n",
       "<table border=\"1\" class=\"dataframe\">\n",
       "  <thead>\n",
       "    <tr style=\"text-align: right;\">\n",
       "      <th></th>\n",
       "      <th>mean_return</th>\n",
       "      <th>std_deviation</th>\n",
       "    </tr>\n",
       "    <tr>\n",
       "      <th>portfolio</th>\n",
       "      <th></th>\n",
       "      <th></th>\n",
       "    </tr>\n",
       "  </thead>\n",
       "  <tbody>\n",
       "    <tr>\n",
       "      <th>NoDur</th>\n",
       "      <td>0.902833</td>\n",
       "      <td>3.345657</td>\n",
       "    </tr>\n",
       "    <tr>\n",
       "      <th>Durbl</th>\n",
       "      <td>0.733333</td>\n",
       "      <td>8.361852</td>\n",
       "    </tr>\n",
       "    <tr>\n",
       "      <th>Manuf</th>\n",
       "      <td>1.012833</td>\n",
       "      <td>5.310270</td>\n",
       "    </tr>\n",
       "    <tr>\n",
       "      <th>Enrgy</th>\n",
       "      <td>1.231167</td>\n",
       "      <td>6.081524</td>\n",
       "    </tr>\n",
       "    <tr>\n",
       "      <th>HiTec</th>\n",
       "      <td>0.766250</td>\n",
       "      <td>5.381191</td>\n",
       "    </tr>\n",
       "    <tr>\n",
       "      <th>Telcm</th>\n",
       "      <td>0.881417</td>\n",
       "      <td>4.448284</td>\n",
       "    </tr>\n",
       "    <tr>\n",
       "      <th>Shops</th>\n",
       "      <td>0.916333</td>\n",
       "      <td>4.093786</td>\n",
       "    </tr>\n",
       "    <tr>\n",
       "      <th>Hlth</th>\n",
       "      <td>0.783833</td>\n",
       "      <td>3.787172</td>\n",
       "    </tr>\n",
       "    <tr>\n",
       "      <th>Utils</th>\n",
       "      <td>0.907167</td>\n",
       "      <td>3.701763</td>\n",
       "    </tr>\n",
       "    <tr>\n",
       "      <th>Other</th>\n",
       "      <td>0.489083</td>\n",
       "      <td>5.582452</td>\n",
       "    </tr>\n",
       "  </tbody>\n",
       "</table>\n",
       "</div>"
      ],
      "text/plain": [
       "           mean_return  std_deviation\n",
       "portfolio                            \n",
       "NoDur         0.902833       3.345657\n",
       "Durbl         0.733333       8.361852\n",
       "Manuf         1.012833       5.310270\n",
       "Enrgy         1.231167       6.081524\n",
       "HiTec         0.766250       5.381191\n",
       "Telcm         0.881417       4.448284\n",
       "Shops         0.916333       4.093786\n",
       "Hlth          0.783833       3.787172\n",
       "Utils         0.907167       3.701763\n",
       "Other         0.489083       5.582452"
      ]
     },
     "execution_count": 10,
     "metadata": {},
     "output_type": "execute_result"
    }
   ],
   "source": [
    "df2"
   ]
  },
  {
   "cell_type": "markdown",
   "id": "9fdc718e-70ab-4a00-a903-825b8eefc2b8",
   "metadata": {},
   "source": [
    "# **Plot the minimum-variance frontier (without the riskless asset) generated by the ten industry portfolios:**\n",
    "\n",
    ">>*This graph must have expected (monthly) return on the vertical axis vs standard deviation of (monthly) return on the horizontal axis.*\n",
    "\n",
    ">>*This graph must cover the range from 0% to 2% on the vertical axis, in increments of 0.1% (or less).*"
   ]
  },
  {
   "cell_type": "code",
   "execution_count": 12,
   "id": "9baa621e-a2a6-4543-85d6-1e4c956083a8",
   "metadata": {},
   "outputs": [
    {
     "data": {
      "text/html": [
       "<div>\n",
       "<style scoped>\n",
       "    .dataframe tbody tr th:only-of-type {\n",
       "        vertical-align: middle;\n",
       "    }\n",
       "\n",
       "    .dataframe tbody tr th {\n",
       "        vertical-align: top;\n",
       "    }\n",
       "\n",
       "    .dataframe thead th {\n",
       "        text-align: right;\n",
       "    }\n",
       "</style>\n",
       "<table border=\"1\" class=\"dataframe\">\n",
       "  <thead>\n",
       "    <tr style=\"text-align: right;\">\n",
       "      <th></th>\n",
       "      <th>NoDur</th>\n",
       "      <th>Durbl</th>\n",
       "      <th>Manuf</th>\n",
       "      <th>Enrgy</th>\n",
       "      <th>HiTec</th>\n",
       "      <th>Telcm</th>\n",
       "      <th>Shops</th>\n",
       "      <th>Hlth</th>\n",
       "      <th>Utils</th>\n",
       "      <th>Other</th>\n",
       "    </tr>\n",
       "  </thead>\n",
       "  <tbody>\n",
       "    <tr>\n",
       "      <th>NoDur</th>\n",
       "      <td>11.193422</td>\n",
       "      <td>18.449666</td>\n",
       "      <td>14.104907</td>\n",
       "      <td>10.531341</td>\n",
       "      <td>12.922949</td>\n",
       "      <td>11.968078</td>\n",
       "      <td>10.170832</td>\n",
       "      <td>9.953112</td>\n",
       "      <td>7.866653</td>\n",
       "      <td>14.438409</td>\n",
       "    </tr>\n",
       "    <tr>\n",
       "      <th>Durbl</th>\n",
       "      <td>18.449666</td>\n",
       "      <td>69.920577</td>\n",
       "      <td>39.178097</td>\n",
       "      <td>27.019794</td>\n",
       "      <td>35.466652</td>\n",
       "      <td>27.490543</td>\n",
       "      <td>27.444731</td>\n",
       "      <td>16.824003</td>\n",
       "      <td>12.746136</td>\n",
       "      <td>39.361987</td>\n",
       "    </tr>\n",
       "    <tr>\n",
       "      <th>Manuf</th>\n",
       "      <td>14.104907</td>\n",
       "      <td>39.178097</td>\n",
       "      <td>28.198970</td>\n",
       "      <td>23.145380</td>\n",
       "      <td>24.618739</td>\n",
       "      <td>19.550150</td>\n",
       "      <td>17.622867</td>\n",
       "      <td>13.596447</td>\n",
       "      <td>11.440612</td>\n",
       "      <td>26.313423</td>\n",
       "    </tr>\n",
       "    <tr>\n",
       "      <th>Enrgy</th>\n",
       "      <td>10.531341</td>\n",
       "      <td>27.019794</td>\n",
       "      <td>23.145380</td>\n",
       "      <td>36.984933</td>\n",
       "      <td>19.267276</td>\n",
       "      <td>15.366817</td>\n",
       "      <td>11.297800</td>\n",
       "      <td>9.630327</td>\n",
       "      <td>14.027168</td>\n",
       "      <td>18.320469</td>\n",
       "    </tr>\n",
       "    <tr>\n",
       "      <th>HiTec</th>\n",
       "      <td>12.922949</td>\n",
       "      <td>35.466652</td>\n",
       "      <td>24.618739</td>\n",
       "      <td>19.267276</td>\n",
       "      <td>28.957220</td>\n",
       "      <td>18.708273</td>\n",
       "      <td>17.837115</td>\n",
       "      <td>13.254064</td>\n",
       "      <td>10.304187</td>\n",
       "      <td>23.855470</td>\n",
       "    </tr>\n",
       "    <tr>\n",
       "      <th>Telcm</th>\n",
       "      <td>11.968078</td>\n",
       "      <td>27.490543</td>\n",
       "      <td>19.550150</td>\n",
       "      <td>15.366817</td>\n",
       "      <td>18.708273</td>\n",
       "      <td>19.787227</td>\n",
       "      <td>14.169356</td>\n",
       "      <td>11.506599</td>\n",
       "      <td>10.991596</td>\n",
       "      <td>19.610836</td>\n",
       "    </tr>\n",
       "    <tr>\n",
       "      <th>Shops</th>\n",
       "      <td>10.170832</td>\n",
       "      <td>27.444731</td>\n",
       "      <td>17.622867</td>\n",
       "      <td>11.297800</td>\n",
       "      <td>17.837115</td>\n",
       "      <td>14.169356</td>\n",
       "      <td>16.759084</td>\n",
       "      <td>10.178849</td>\n",
       "      <td>6.694350</td>\n",
       "      <td>19.226524</td>\n",
       "    </tr>\n",
       "    <tr>\n",
       "      <th>Hlth</th>\n",
       "      <td>9.953112</td>\n",
       "      <td>16.824003</td>\n",
       "      <td>13.596447</td>\n",
       "      <td>9.630327</td>\n",
       "      <td>13.254064</td>\n",
       "      <td>11.506599</td>\n",
       "      <td>10.178849</td>\n",
       "      <td>14.342669</td>\n",
       "      <td>7.475036</td>\n",
       "      <td>14.864553</td>\n",
       "    </tr>\n",
       "    <tr>\n",
       "      <th>Utils</th>\n",
       "      <td>7.866653</td>\n",
       "      <td>12.746136</td>\n",
       "      <td>11.440612</td>\n",
       "      <td>14.027168</td>\n",
       "      <td>10.304187</td>\n",
       "      <td>10.991596</td>\n",
       "      <td>6.694350</td>\n",
       "      <td>7.475036</td>\n",
       "      <td>13.703052</td>\n",
       "      <td>9.992960</td>\n",
       "    </tr>\n",
       "    <tr>\n",
       "      <th>Other</th>\n",
       "      <td>14.438409</td>\n",
       "      <td>39.361987</td>\n",
       "      <td>26.313423</td>\n",
       "      <td>18.320469</td>\n",
       "      <td>23.855470</td>\n",
       "      <td>19.610836</td>\n",
       "      <td>19.226524</td>\n",
       "      <td>14.864553</td>\n",
       "      <td>9.992960</td>\n",
       "      <td>31.163771</td>\n",
       "    </tr>\n",
       "  </tbody>\n",
       "</table>\n",
       "</div>"
      ],
      "text/plain": [
       "           NoDur      Durbl      Manuf      Enrgy      HiTec      Telcm  \\\n",
       "NoDur  11.193422  18.449666  14.104907  10.531341  12.922949  11.968078   \n",
       "Durbl  18.449666  69.920577  39.178097  27.019794  35.466652  27.490543   \n",
       "Manuf  14.104907  39.178097  28.198970  23.145380  24.618739  19.550150   \n",
       "Enrgy  10.531341  27.019794  23.145380  36.984933  19.267276  15.366817   \n",
       "HiTec  12.922949  35.466652  24.618739  19.267276  28.957220  18.708273   \n",
       "Telcm  11.968078  27.490543  19.550150  15.366817  18.708273  19.787227   \n",
       "Shops  10.170832  27.444731  17.622867  11.297800  17.837115  14.169356   \n",
       "Hlth    9.953112  16.824003  13.596447   9.630327  13.254064  11.506599   \n",
       "Utils   7.866653  12.746136  11.440612  14.027168  10.304187  10.991596   \n",
       "Other  14.438409  39.361987  26.313423  18.320469  23.855470  19.610836   \n",
       "\n",
       "           Shops       Hlth      Utils      Other  \n",
       "NoDur  10.170832   9.953112   7.866653  14.438409  \n",
       "Durbl  27.444731  16.824003  12.746136  39.361987  \n",
       "Manuf  17.622867  13.596447  11.440612  26.313423  \n",
       "Enrgy  11.297800   9.630327  14.027168  18.320469  \n",
       "HiTec  17.837115  13.254064  10.304187  23.855470  \n",
       "Telcm  14.169356  11.506599  10.991596  19.610836  \n",
       "Shops  16.759084  10.178849   6.694350  19.226524  \n",
       "Hlth   10.178849  14.342669   7.475036  14.864553  \n",
       "Utils   6.694350   7.475036  13.703052   9.992960  \n",
       "Other  19.226524  14.864553   9.992960  31.163771  "
      ]
     },
     "execution_count": 12,
     "metadata": {},
     "output_type": "execute_result"
    }
   ],
   "source": [
    "#find V (Variance nxn Matrix)\n",
    "V = df.cov()\n",
    "V"
   ]
  },
  {
   "cell_type": "code",
   "execution_count": 13,
   "id": "8f883bc4-33fb-47ee-8ebc-72c31c1a1094",
   "metadata": {},
   "outputs": [
    {
     "data": {
      "text/plain": [
       "array([0.90283333, 0.73333333, 1.01283333, 1.23116667, 0.76625   ,\n",
       "       0.88141667, 0.91633333, 0.78383333, 0.90716667, 0.48908333])"
      ]
     },
     "execution_count": 13,
     "metadata": {},
     "output_type": "execute_result"
    }
   ],
   "source": [
    "#find R (Return nx1 Matrix)\n",
    "R = df2.mean_return.to_numpy()\n",
    "R"
   ]
  },
  {
   "cell_type": "code",
   "execution_count": 14,
   "id": "414a3ddd-fcd0-41be-a98b-ddd27f392c5a",
   "metadata": {},
   "outputs": [
    {
     "data": {
      "text/plain": [
       "array([1., 1., 1., 1., 1., 1., 1., 1., 1., 1.])"
      ]
     },
     "execution_count": 14,
     "metadata": {},
     "output_type": "execute_result"
    }
   ],
   "source": [
    "#find e (nx1 Matrix of ones)\n",
    "e = np.ones(len(mean_list))\n",
    "e"
   ]
  },
  {
   "cell_type": "code",
   "execution_count": 15,
   "id": "f5a2fd98-d9a1-44a6-af6b-170d875cab53",
   "metadata": {},
   "outputs": [
    {
     "data": {
      "text/plain": [
       "0.1379432386993192"
      ]
     },
     "execution_count": 15,
     "metadata": {},
     "output_type": "execute_result"
    }
   ],
   "source": [
    "#Calculate alpha\n",
    "alpha = R.T @ np.linalg.inv(V) @ e\n",
    "alpha"
   ]
  },
  {
   "cell_type": "code",
   "execution_count": 16,
   "id": "2657c211-e588-4f0e-aa2c-786c4eab28d8",
   "metadata": {},
   "outputs": [
    {
     "data": {
      "text/plain": [
       "0.196408584644823"
      ]
     },
     "execution_count": 16,
     "metadata": {},
     "output_type": "execute_result"
    }
   ],
   "source": [
    "#Calculate zeta\n",
    "zeta = R.T @ np.linalg.inv(V) @ R\n",
    "zeta"
   ]
  },
  {
   "cell_type": "code",
   "execution_count": 17,
   "id": "9be3e57c-911e-4320-a301-2d221274f65d",
   "metadata": {},
   "outputs": [
    {
     "data": {
      "text/plain": [
       "0.1373875973567121"
      ]
     },
     "execution_count": 17,
     "metadata": {},
     "output_type": "execute_result"
    }
   ],
   "source": [
    "#Calculate delta\n",
    "delta = e.T @ np.linalg.inv(V) @ e\n",
    "delta"
   ]
  },
  {
   "cell_type": "code",
   "execution_count": 18,
   "id": "9a2082a0-0456-4246-b99f-2b4adf71c732",
   "metadata": {},
   "outputs": [
    {
     "data": {
      "text/plain": [
       "1.0040443340832612"
      ]
     },
     "execution_count": 18,
     "metadata": {},
     "output_type": "execute_result"
    }
   ],
   "source": [
    "#Calculate Rmv\n",
    "Rmv = alpha / delta\n",
    "Rmv"
   ]
  },
  {
   "cell_type": "code",
   "execution_count": 19,
   "id": "a4f99e25-4c12-43fc-84c0-0e9155659490",
   "metadata": {},
   "outputs": [
    {
     "data": {
      "text/plain": [
       "array([0.  , 0.01, 0.02, 0.03, 0.04, 0.05, 0.06, 0.07, 0.08, 0.09, 0.1 ,\n",
       "       0.11, 0.12, 0.13, 0.14, 0.15, 0.16, 0.17, 0.18, 0.19, 0.2 , 0.21,\n",
       "       0.22, 0.23, 0.24, 0.25, 0.26, 0.27, 0.28, 0.29, 0.3 , 0.31, 0.32,\n",
       "       0.33, 0.34, 0.35, 0.36, 0.37, 0.38, 0.39, 0.4 , 0.41, 0.42, 0.43,\n",
       "       0.44, 0.45, 0.46, 0.47, 0.48, 0.49, 0.5 , 0.51, 0.52, 0.53, 0.54,\n",
       "       0.55, 0.56, 0.57, 0.58, 0.59, 0.6 , 0.61, 0.62, 0.63, 0.64, 0.65,\n",
       "       0.66, 0.67, 0.68, 0.69, 0.7 , 0.71, 0.72, 0.73, 0.74, 0.75, 0.76,\n",
       "       0.77, 0.78, 0.79, 0.8 , 0.81, 0.82, 0.83, 0.84, 0.85, 0.86, 0.87,\n",
       "       0.88, 0.89, 0.9 , 0.91, 0.92, 0.93, 0.94, 0.95, 0.96, 0.97, 0.98,\n",
       "       0.99, 1.  , 1.01, 1.02, 1.03, 1.04, 1.05, 1.06, 1.07, 1.08, 1.09,\n",
       "       1.1 , 1.11, 1.12, 1.13, 1.14, 1.15, 1.16, 1.17, 1.18, 1.19, 1.2 ,\n",
       "       1.21, 1.22, 1.23, 1.24, 1.25, 1.26, 1.27, 1.28, 1.29, 1.3 , 1.31,\n",
       "       1.32, 1.33, 1.34, 1.35, 1.36, 1.37, 1.38, 1.39, 1.4 , 1.41, 1.42,\n",
       "       1.43, 1.44, 1.45, 1.46, 1.47, 1.48, 1.49, 1.5 , 1.51, 1.52, 1.53,\n",
       "       1.54, 1.55, 1.56, 1.57, 1.58, 1.59, 1.6 , 1.61, 1.62, 1.63, 1.64,\n",
       "       1.65, 1.66, 1.67, 1.68, 1.69, 1.7 , 1.71, 1.72, 1.73, 1.74, 1.75,\n",
       "       1.76, 1.77, 1.78, 1.79, 1.8 , 1.81, 1.82, 1.83, 1.84, 1.85, 1.86,\n",
       "       1.87, 1.88, 1.89, 1.9 , 1.91, 1.92, 1.93, 1.94, 1.95, 1.96, 1.97,\n",
       "       1.98, 1.99, 2.  ])"
      ]
     },
     "execution_count": 19,
     "metadata": {},
     "output_type": "execute_result"
    }
   ],
   "source": [
    "Rp = np.arange(0, 2.01, 0.01)\n",
    "Rp"
   ]
  },
  {
   "cell_type": "code",
   "execution_count": 20,
   "id": "263b7991-e09d-49a4-80f5-8b7c3cf047f0",
   "metadata": {},
   "outputs": [
    {
     "data": {
      "text/plain": [
       "array([4.96865933, 4.93381464, 4.89907462, 4.8644415 , 4.82991758,\n",
       "       4.79550523, 4.76120686, 4.72702495, 4.69296205, 4.65902076,\n",
       "       4.62520378, 4.59151383, 4.55795374, 4.5245264 , 4.49123477,\n",
       "       4.4580819 , 4.42507089, 4.39220496, 4.35948738, 4.32692151,\n",
       "       4.29451081, 4.26225882, 4.23016916, 4.19824557, 4.16649185,\n",
       "       4.13491193, 4.10350981, 4.0722896 , 4.04125553, 4.01041191,\n",
       "       3.97976317, 3.94931385, 3.9190686 , 3.88903217, 3.85920946,\n",
       "       3.82960543, 3.80022522, 3.77107404, 3.74215726, 3.71348034,\n",
       "       3.68504889, 3.65686863, 3.62894542, 3.60128523, 3.57389417,\n",
       "       3.54677848, 3.51994451, 3.49339877, 3.46714787, 3.44119855,\n",
       "       3.41555771, 3.39023232, 3.36522952, 3.34055654, 3.31622076,\n",
       "       3.29222964, 3.26859078, 3.24531187, 3.22240071, 3.19986521,\n",
       "       3.17771336, 3.15595323, 3.13459299, 3.11364085, 3.09310513,\n",
       "       3.07299416, 3.05331633, 3.03408008, 3.01529386, 2.99696612,\n",
       "       2.97910534, 2.96171996, 2.94481839, 2.92840902, 2.91250017,\n",
       "       2.89710007, 2.8822169 , 2.86785868, 2.85403336, 2.8407487 ,\n",
       "       2.82801233, 2.81583168, 2.804214  , 2.79316632, 2.78269542,\n",
       "       2.77280783, 2.76350982, 2.75480736, 2.7467061 , 2.73921139,\n",
       "       2.73232821, 2.7260612 , 2.72041461, 2.71539231, 2.71099778,\n",
       "       2.70723407, 2.70410382, 2.70160922, 2.69975204, 2.6985336 ,\n",
       "       2.69795476, 2.69801592, 2.69871706, 2.70005767, 2.7020368 ,\n",
       "       2.70465304, 2.70790455, 2.71178905, 2.71630382, 2.72144571,\n",
       "       2.7272112 , 2.73359632, 2.74059676, 2.74820779, 2.75642438,\n",
       "       2.76524112, 2.77465229, 2.78465186, 2.79523352, 2.80639068,\n",
       "       2.81811651, 2.83040394, 2.84324569, 2.85663428, 2.87056206,\n",
       "       2.88502123, 2.90000383, 2.9155018 , 2.93150696, 2.94801105,\n",
       "       2.96500574, 2.98248264, 3.00043333, 3.01884935, 3.03772224,\n",
       "       3.05704354, 3.07680481, 3.09699761, 3.11761357, 3.13864435,\n",
       "       3.16008166, 3.18191728, 3.20414309, 3.226751  , 3.24973305,\n",
       "       3.27308136, 3.29678814, 3.32084572, 3.34524653, 3.36998311,\n",
       "       3.39504812, 3.42043435, 3.4461347 , 3.47214218, 3.49844995,\n",
       "       3.52505129, 3.5519396 , 3.57910842, 3.60655139, 3.63426233,\n",
       "       3.66223513, 3.69046384, 3.71894265, 3.74766584, 3.77662785,\n",
       "       3.80582321, 3.8352466 , 3.86489282, 3.89475676, 3.92483347,\n",
       "       3.9551181 , 3.98560589, 4.01629222, 4.04717258, 4.07824256,\n",
       "       4.10949786, 4.14093428, 4.17254773, 4.20433422, 4.23628984,\n",
       "       4.26841081, 4.30069341, 4.33313404, 4.36572917, 4.39847536,\n",
       "       4.43136928, 4.46440764, 4.49758728, 4.53090508, 4.56435801,\n",
       "       4.59794314, 4.63165759, 4.66549854, 4.69946328, 4.73354913,\n",
       "       4.76775349, 4.80207384, 4.8365077 , 4.87105267, 4.90570639,\n",
       "       4.94046659])"
      ]
     },
     "execution_count": 20,
     "metadata": {},
     "output_type": "execute_result"
    }
   ],
   "source": [
    "#Variance of return for frontier portfolio\n",
    "var_p_squared = 1/delta + delta / (zeta*delta - alpha**2) * (Rp - Rmv)**2\n",
    "sigma_p = np.sqrt(var_p_squared)\n",
    "sigma_p"
   ]
  },
  {
   "cell_type": "code",
   "execution_count": 21,
   "id": "73b840eb-5bd9-4d2f-b12b-d8109023db8d",
   "metadata": {},
   "outputs": [
    {
     "data": {
      "text/html": [
       "<div>\n",
       "<style scoped>\n",
       "    .dataframe tbody tr th:only-of-type {\n",
       "        vertical-align: middle;\n",
       "    }\n",
       "\n",
       "    .dataframe tbody tr th {\n",
       "        vertical-align: top;\n",
       "    }\n",
       "\n",
       "    .dataframe thead th {\n",
       "        text-align: right;\n",
       "    }\n",
       "</style>\n",
       "<table border=\"1\" class=\"dataframe\">\n",
       "  <thead>\n",
       "    <tr style=\"text-align: right;\">\n",
       "      <th></th>\n",
       "      <th>sigma_p</th>\n",
       "      <th>Rp</th>\n",
       "    </tr>\n",
       "  </thead>\n",
       "  <tbody>\n",
       "    <tr>\n",
       "      <th>0</th>\n",
       "      <td>4.968659</td>\n",
       "      <td>0.00</td>\n",
       "    </tr>\n",
       "    <tr>\n",
       "      <th>1</th>\n",
       "      <td>4.933815</td>\n",
       "      <td>0.01</td>\n",
       "    </tr>\n",
       "    <tr>\n",
       "      <th>2</th>\n",
       "      <td>4.899075</td>\n",
       "      <td>0.02</td>\n",
       "    </tr>\n",
       "    <tr>\n",
       "      <th>3</th>\n",
       "      <td>4.864441</td>\n",
       "      <td>0.03</td>\n",
       "    </tr>\n",
       "    <tr>\n",
       "      <th>4</th>\n",
       "      <td>4.829918</td>\n",
       "      <td>0.04</td>\n",
       "    </tr>\n",
       "    <tr>\n",
       "      <th>...</th>\n",
       "      <td>...</td>\n",
       "      <td>...</td>\n",
       "    </tr>\n",
       "    <tr>\n",
       "      <th>196</th>\n",
       "      <td>4.802074</td>\n",
       "      <td>1.96</td>\n",
       "    </tr>\n",
       "    <tr>\n",
       "      <th>197</th>\n",
       "      <td>4.836508</td>\n",
       "      <td>1.97</td>\n",
       "    </tr>\n",
       "    <tr>\n",
       "      <th>198</th>\n",
       "      <td>4.871053</td>\n",
       "      <td>1.98</td>\n",
       "    </tr>\n",
       "    <tr>\n",
       "      <th>199</th>\n",
       "      <td>4.905706</td>\n",
       "      <td>1.99</td>\n",
       "    </tr>\n",
       "    <tr>\n",
       "      <th>200</th>\n",
       "      <td>4.940467</td>\n",
       "      <td>2.00</td>\n",
       "    </tr>\n",
       "  </tbody>\n",
       "</table>\n",
       "<p>201 rows × 2 columns</p>\n",
       "</div>"
      ],
      "text/plain": [
       "      sigma_p    Rp\n",
       "0    4.968659  0.00\n",
       "1    4.933815  0.01\n",
       "2    4.899075  0.02\n",
       "3    4.864441  0.03\n",
       "4    4.829918  0.04\n",
       "..        ...   ...\n",
       "196  4.802074  1.96\n",
       "197  4.836508  1.97\n",
       "198  4.871053  1.98\n",
       "199  4.905706  1.99\n",
       "200  4.940467  2.00\n",
       "\n",
       "[201 rows x 2 columns]"
      ]
     },
     "execution_count": 21,
     "metadata": {},
     "output_type": "execute_result"
    }
   ],
   "source": [
    "df3 = pd.DataFrame({'sigma_p': sigma_p, 'Rp': Rp})\n",
    "df3"
   ]
  },
  {
   "cell_type": "code",
   "execution_count": 22,
   "id": "311d31df-34a9-4af4-8cc8-73d74cedae69",
   "metadata": {},
   "outputs": [
    {
     "data": {
      "text/plain": [
       "array([0, 1, 2, 3, 4, 5])"
      ]
     },
     "execution_count": 22,
     "metadata": {},
     "output_type": "execute_result"
    }
   ],
   "source": [
    "x_new = np.arange(0,6,1)\n",
    "x_new"
   ]
  },
  {
   "cell_type": "code",
   "execution_count": 23,
   "id": "bc22d84c-8b18-4b9b-9244-585dade8ca93",
   "metadata": {},
   "outputs": [
    {
     "data": {
      "text/plain": [
       "<matplotlib.legend.Legend at 0x1776beab0>"
      ]
     },
     "execution_count": 23,
     "metadata": {},
     "output_type": "execute_result"
    },
    {
     "data": {
      "image/png": "[encoded data removed]",
      "text/plain": [
       "<Figure size 800x600 with 1 Axes>"
      ]
     },
     "metadata": {},
     "output_type": "display_data"
    }
   ],
   "source": [
    "plt.figure(figsize = [8,6])\n",
    "plt.plot(sigma_p, Rp,label='Without Riskless Asset')\n",
    "plt.xlabel('Std Deviation of Monthly Return (%)')\n",
    "plt.ylabel('Expected Monthly Return (%)')\n",
    "plt.title('Minimum-Variance Frontier')\n",
    "plt.xticks(x_new)\n",
    "plt.legend()"
   ]
  },
  {
   "cell_type": "markdown",
   "id": "19bf53e3-616d-4a9c-9c55-c0b95e074a11",
   "metadata": {},
   "source": [
    "# Briefly explain (in words, without mathematical equations or formulas) the economic significance and relevance of the minimum-variance frontier to an investor."
   ]
  },
  {
   "cell_type": "markdown",
   "id": "8e3a9660-125e-42dd-8b04-887fa170de39",
   "metadata": {},
   "source": [
    "Investor's ultimate goal is to create an optimal portfolio to maximize utility. Thus, the minimum-variance frontier tries to fulfill that goal by identifying all 'efficient' or 'frontier' portfolios that minimise risk for a given mean return, or conversely, highest expected return given a specific amount of risk. The Sharpe ratio can also give the optimal portfolio that lies on this efficient frontier, resulting in the most optimum risk to return tradeoff. This frontier also suggests diversification, where investors can invest in assets that are not perfectly correlated to reduce risks while still maximizing returns."
   ]
  },
  {
   "cell_type": "markdown",
   "id": "09dee910-32d9-4caa-b3cc-c88977223343",
   "metadata": {},
   "source": [
    "# Now suppose that the (net) risk-free rate is 0.13% per month:\n",
    "\n",
    "> Plot the efficient frontier (with the riskless asset) on the same graph as the minimum-variance frontier generated by the ten industry portfolios.\n",
    "\n",
    "> Briefly explain the economic significance and relevance of the efficient frontier to an investor."
   ]
  },
  {
   "cell_type": "code",
   "execution_count": 27,
   "id": "c85ab4b7-dccc-4bd9-9272-cc16b8d07ce2",
   "metadata": {},
   "outputs": [],
   "source": [
    "Rf = 0.13"
   ]
  },
  {
   "cell_type": "code",
   "execution_count": 28,
   "id": "b859e279-8503-4204-a2ae-91e730887983",
   "metadata": {},
   "outputs": [
    {
     "data": {
      "text/plain": [
       "array([0.13, 0.14, 0.15, 0.16, 0.17, 0.18, 0.19, 0.2 , 0.21, 0.22, 0.23,\n",
       "       0.24, 0.25, 0.26, 0.27, 0.28, 0.29, 0.3 , 0.31, 0.32, 0.33, 0.34,\n",
       "       0.35, 0.36, 0.37, 0.38, 0.39, 0.4 , 0.41, 0.42, 0.43, 0.44, 0.45,\n",
       "       0.46, 0.47, 0.48, 0.49, 0.5 , 0.51, 0.52, 0.53, 0.54, 0.55, 0.56,\n",
       "       0.57, 0.58, 0.59, 0.6 , 0.61, 0.62, 0.63, 0.64, 0.65, 0.66, 0.67,\n",
       "       0.68, 0.69, 0.7 , 0.71, 0.72, 0.73, 0.74, 0.75, 0.76, 0.77, 0.78,\n",
       "       0.79, 0.8 , 0.81, 0.82, 0.83, 0.84, 0.85, 0.86, 0.87, 0.88, 0.89,\n",
       "       0.9 , 0.91, 0.92, 0.93, 0.94, 0.95, 0.96, 0.97, 0.98, 0.99, 1.  ,\n",
       "       1.01, 1.02, 1.03, 1.04, 1.05, 1.06, 1.07, 1.08, 1.09, 1.1 , 1.11,\n",
       "       1.12, 1.13, 1.14, 1.15, 1.16, 1.17, 1.18, 1.19, 1.2 , 1.21, 1.22,\n",
       "       1.23, 1.24, 1.25, 1.26, 1.27, 1.28, 1.29, 1.3 , 1.31, 1.32, 1.33,\n",
       "       1.34, 1.35, 1.36, 1.37, 1.38, 1.39, 1.4 , 1.41, 1.42, 1.43, 1.44,\n",
       "       1.45, 1.46, 1.47, 1.48, 1.49, 1.5 , 1.51, 1.52, 1.53, 1.54, 1.55,\n",
       "       1.56, 1.57, 1.58, 1.59, 1.6 , 1.61, 1.62, 1.63, 1.64, 1.65, 1.66,\n",
       "       1.67, 1.68, 1.69, 1.7 , 1.71, 1.72, 1.73, 1.74, 1.75, 1.76, 1.77,\n",
       "       1.78, 1.79, 1.8 , 1.81, 1.82, 1.83, 1.84, 1.85, 1.86, 1.87, 1.88,\n",
       "       1.89, 1.9 , 1.91, 1.92, 1.93, 1.94, 1.95, 1.96, 1.97, 1.98, 1.99,\n",
       "       2.  ])"
      ]
     },
     "execution_count": 28,
     "metadata": {},
     "output_type": "execute_result"
    }
   ],
   "source": [
    "new_Rp = np.arange(Rf,2.01,0.01)\n",
    "new_Rp"
   ]
  },
  {
   "cell_type": "code",
   "execution_count": 29,
   "id": "48cd92ee-6e9d-4ba3-83a0-a0c2947c57b3",
   "metadata": {},
   "outputs": [],
   "source": [
    "sigma_p_square = (new_Rp - Rf)**2 / (zeta - 2 * alpha * Rf + delta * Rf * Rf)"
   ]
  },
  {
   "cell_type": "code",
   "execution_count": 30,
   "id": "c8e802b2-a2dd-4791-a98b-35a5ec96439e",
   "metadata": {},
   "outputs": [
    {
     "data": {
      "text/plain": [
       "array([0.00000000e+00, 6.14004737e-04, 2.45601895e-03, 5.52604263e-03,\n",
       "       9.82407579e-03, 1.53501184e-02, 2.21041705e-02, 3.00862321e-02,\n",
       "       3.92963032e-02, 4.97343837e-02, 6.14004737e-02, 7.42945732e-02,\n",
       "       8.84166821e-02, 1.03766801e-01, 1.20344928e-01, 1.38151066e-01,\n",
       "       1.57185213e-01, 1.77447369e-01, 1.98937535e-01, 2.21655710e-01,\n",
       "       2.45601895e-01, 2.70776089e-01, 2.97178293e-01, 3.24808506e-01,\n",
       "       3.53666729e-01, 3.83752961e-01, 4.15067202e-01, 4.47609453e-01,\n",
       "       4.81379714e-01, 5.16377984e-01, 5.52604263e-01, 5.90058552e-01,\n",
       "       6.28740851e-01, 6.68651159e-01, 7.09789476e-01, 7.52155803e-01,\n",
       "       7.95750139e-01, 8.40572485e-01, 8.86622840e-01, 9.33901205e-01,\n",
       "       9.82407579e-01, 1.03214196e+00, 1.08310436e+00, 1.13529476e+00,\n",
       "       1.18871317e+00, 1.24335959e+00, 1.29923402e+00, 1.35633646e+00,\n",
       "       1.41466691e+00, 1.47422537e+00, 1.53501184e+00, 1.59702632e+00,\n",
       "       1.66026881e+00, 1.72473931e+00, 1.79043781e+00, 1.85736433e+00,\n",
       "       1.92551886e+00, 1.99490139e+00, 2.06551194e+00, 2.13735049e+00,\n",
       "       2.21041705e+00, 2.28471163e+00, 2.36023421e+00, 2.43698480e+00,\n",
       "       2.51496340e+00, 2.59417001e+00, 2.67460463e+00, 2.75626726e+00,\n",
       "       2.83915790e+00, 2.92327655e+00, 3.00862321e+00, 3.09519788e+00,\n",
       "       3.18300056e+00, 3.27203124e+00, 3.36228994e+00, 3.45377665e+00,\n",
       "       3.54649136e+00, 3.64043409e+00, 3.73560482e+00, 3.83200356e+00,\n",
       "       3.92963032e+00, 4.02848508e+00, 4.12856785e+00, 4.22987863e+00,\n",
       "       4.33241743e+00, 4.43618423e+00, 4.54117904e+00, 4.64740186e+00,\n",
       "       4.75485268e+00, 4.86353152e+00, 4.97343837e+00, 5.08457323e+00,\n",
       "       5.19693609e+00, 5.31052697e+00, 5.42534586e+00, 5.54139275e+00,\n",
       "       5.65866766e+00, 5.77717057e+00, 5.89690150e+00, 6.01786043e+00,\n",
       "       6.14004737e+00, 6.26346232e+00, 6.38810528e+00, 6.51397626e+00,\n",
       "       6.64107524e+00, 6.76940223e+00, 6.89895723e+00, 7.02974024e+00,\n",
       "       7.16175125e+00, 7.29499028e+00, 7.42945732e+00, 7.56515237e+00,\n",
       "       7.70207542e+00, 7.84022649e+00, 7.97960556e+00, 8.12021265e+00,\n",
       "       8.26204774e+00, 8.40511085e+00, 8.54940196e+00, 8.69492108e+00,\n",
       "       8.84166821e+00, 8.98964336e+00, 9.13884651e+00, 9.28927767e+00,\n",
       "       9.44093684e+00, 9.59382402e+00, 9.74793921e+00, 9.90328240e+00,\n",
       "       1.00598536e+01, 1.02176528e+01, 1.03766801e+01, 1.05369353e+01,\n",
       "       1.06984185e+01, 1.08611298e+01, 1.10250691e+01, 1.11902363e+01,\n",
       "       1.13566316e+01, 1.15242549e+01, 1.16931062e+01, 1.18631855e+01,\n",
       "       1.20344928e+01, 1.22070282e+01, 1.23807915e+01, 1.25557829e+01,\n",
       "       1.27320022e+01, 1.29094496e+01, 1.30881250e+01, 1.32680284e+01,\n",
       "       1.34491598e+01, 1.36315192e+01, 1.38151066e+01, 1.39999220e+01,\n",
       "       1.41859654e+01, 1.43732369e+01, 1.45617363e+01, 1.47514638e+01,\n",
       "       1.49424193e+01, 1.51346028e+01, 1.53280143e+01, 1.55226538e+01,\n",
       "       1.57185213e+01, 1.59156168e+01, 1.61139403e+01, 1.63134919e+01,\n",
       "       1.65142714e+01, 1.67162790e+01, 1.69195145e+01, 1.71239781e+01,\n",
       "       1.73296697e+01, 1.75365893e+01, 1.77447369e+01, 1.79541125e+01,\n",
       "       1.81647161e+01, 1.83765478e+01, 1.85896074e+01, 1.88038951e+01,\n",
       "       1.90194107e+01, 1.92361544e+01, 1.94541261e+01, 1.96733258e+01,\n",
       "       1.98937535e+01, 2.01154092e+01, 2.03382929e+01, 2.05624046e+01,\n",
       "       2.07877444e+01, 2.10143121e+01, 2.12421079e+01, 2.14711317e+01])"
      ]
     },
     "execution_count": 30,
     "metadata": {},
     "output_type": "execute_result"
    }
   ],
   "source": [
    "sigma_p_square"
   ]
  },
  {
   "cell_type": "code",
   "execution_count": 31,
   "id": "04297ffc-3606-418e-9ddb-f423e6e304c7",
   "metadata": {},
   "outputs": [],
   "source": [
    "new_std = np.sqrt(sigma_p_square)"
   ]
  },
  {
   "cell_type": "code",
   "execution_count": 32,
   "id": "9d7de702-8270-442e-8a83-9b5dcb97e6af",
   "metadata": {},
   "outputs": [
    {
     "data": {
      "text/plain": [
       "array([0.        , 0.02477912, 0.04955824, 0.07433736, 0.09911648,\n",
       "       0.12389559, 0.14867471, 0.17345383, 0.19823295, 0.22301207,\n",
       "       0.24779119, 0.27257031, 0.29734943, 0.32212855, 0.34690767,\n",
       "       0.37168678, 0.3964659 , 0.42124502, 0.44602414, 0.47080326,\n",
       "       0.49558238, 0.5203615 , 0.54514062, 0.56991974, 0.59469886,\n",
       "       0.61947797, 0.64425709, 0.66903621, 0.69381533, 0.71859445,\n",
       "       0.74337357, 0.76815269, 0.79293181, 0.81771093, 0.84249005,\n",
       "       0.86726916, 0.89204828, 0.9168274 , 0.94160652, 0.96638564,\n",
       "       0.99116476, 1.01594388, 1.040723  , 1.06550212, 1.09028123,\n",
       "       1.11506035, 1.13983947, 1.16461859, 1.18939771, 1.21417683,\n",
       "       1.23895595, 1.26373507, 1.28851419, 1.31329331, 1.33807242,\n",
       "       1.36285154, 1.38763066, 1.41240978, 1.4371889 , 1.46196802,\n",
       "       1.48674714, 1.51152626, 1.53630538, 1.5610845 , 1.58586361,\n",
       "       1.61064273, 1.63542185, 1.66020097, 1.68498009, 1.70975921,\n",
       "       1.73453833, 1.75931745, 1.78409657, 1.80887569, 1.8336548 ,\n",
       "       1.85843392, 1.88321304, 1.90799216, 1.93277128, 1.9575504 ,\n",
       "       1.98232952, 2.00710864, 2.03188776, 2.05666687, 2.08144599,\n",
       "       2.10622511, 2.13100423, 2.15578335, 2.18056247, 2.20534159,\n",
       "       2.23012071, 2.25489983, 2.27967895, 2.30445806, 2.32923718,\n",
       "       2.3540163 , 2.37879542, 2.40357454, 2.42835366, 2.45313278,\n",
       "       2.4779119 , 2.50269102, 2.52747014, 2.55224925, 2.57702837,\n",
       "       2.60180749, 2.62658661, 2.65136573, 2.67614485, 2.70092397,\n",
       "       2.72570309, 2.75048221, 2.77526133, 2.80004044, 2.82481956,\n",
       "       2.84959868, 2.8743778 , 2.89915692, 2.92393604, 2.94871516,\n",
       "       2.97349428, 2.9982734 , 3.02305251, 3.04783163, 3.07261075,\n",
       "       3.09738987, 3.12216899, 3.14694811, 3.17172723, 3.19650635,\n",
       "       3.22128547, 3.24606459, 3.2708437 , 3.29562282, 3.32040194,\n",
       "       3.34518106, 3.36996018, 3.3947393 , 3.41951842, 3.44429754,\n",
       "       3.46907666, 3.49385578, 3.51863489, 3.54341401, 3.56819313,\n",
       "       3.59297225, 3.61775137, 3.64253049, 3.66730961, 3.69208873,\n",
       "       3.71686785, 3.74164697, 3.76642608, 3.7912052 , 3.81598432,\n",
       "       3.84076344, 3.86554256, 3.89032168, 3.9151008 , 3.93987992,\n",
       "       3.96465904, 3.98943815, 4.01421727, 4.03899639, 4.06377551,\n",
       "       4.08855463, 4.11333375, 4.13811287, 4.16289199, 4.18767111,\n",
       "       4.21245023, 4.23722934, 4.26200846, 4.28678758, 4.3115667 ,\n",
       "       4.33634582, 4.36112494, 4.38590406, 4.41068318, 4.4354623 ,\n",
       "       4.46024142, 4.48502053, 4.50979965, 4.53457877, 4.55935789,\n",
       "       4.58413701, 4.60891613, 4.63369525])"
      ]
     },
     "execution_count": 32,
     "metadata": {},
     "output_type": "execute_result"
    }
   ],
   "source": [
    "new_std"
   ]
  },
  {
   "cell_type": "code",
   "execution_count": 33,
   "id": "a490b3b9-1cad-4956-aaab-877773cd8fc4",
   "metadata": {},
   "outputs": [],
   "source": [
    "x = [0,6]\n",
    "y = [Rmv,Rmv]"
   ]
  },
  {
   "cell_type": "code",
   "execution_count": 102,
   "id": "d70c4bab-45a4-43fc-a4db-dd7b97307571",
   "metadata": {},
   "outputs": [
    {
     "data": {
      "text/plain": [
       "<matplotlib.legend.Legend at 0x311bdf650>"
      ]
     },
     "execution_count": 102,
     "metadata": {},
     "output_type": "execute_result"
    },
    {
     "data": {
      "image/png": "[encoded data removed]",
      "text/plain": [
       "<Figure size 1000x600 with 1 Axes>"
      ]
     },
     "metadata": {},
     "output_type": "display_data"
    }
   ],
   "source": [
    "plt.figure(figsize = [10,6])\n",
    "plt.plot(new_std, new_Rp,label='With Riskless Asset')\n",
    "plt.plot(sigma_p, Rp,label='Without Riskless Asset')\n",
    "# plt.scatter (sigma_p_2, Rp0)\n",
    "plt.axhline(Rmv, label ='Rmv', linestyle = '--')\n",
    "\n",
    "plt.xlabel('Std Deviation of Monthly Return (%)')\n",
    "plt.ylabel('Expected Monthly Return (%)')\n",
    "plt.title('Efficient Frontier')\n",
    "plt.yticks(np.arange(0,2.1,0.1))\n",
    "plt.ylim(0,2)\n",
    "plt.xlim(0,6)\n",
    "plt.legend()"
   ]
  },
  {
   "cell_type": "markdown",
   "id": "12325aec-2ed0-4c40-8ba7-fbe2453b8b7d",
   "metadata": {},
   "source": [
    "> Briefly explain the economic significance and relevance of the efficient frontier to an investor."
   ]
  },
  {
   "cell_type": "code",
   "execution_count": null,
   "id": "4732de20-fdfe-4b45-a7a1-d2e624a1aada",
   "metadata": {},
   "outputs": [],
   "source": []
  },
  {
   "cell_type": "markdown",
   "id": "8f0c6484-63c9-4afa-b55b-90252332a6da",
   "metadata": {},
   "source": [
    "# The two frontiers will intersect at single point: the tangency portfolio:\n",
    "\n",
    "> Calculate the Sharpe ratio for the tangency portfolio, and also the tangency portfolio weights for the ten industry portfolios.\n",
    "\n",
    "> Briefly explain the economic significance and relevance of the tangency portfolio to an investor."
   ]
  },
  {
   "cell_type": "code",
   "execution_count": 37,
   "id": "f933f658-a9e8-4581-bbd6-5c998365ed41",
   "metadata": {},
   "outputs": [],
   "source": [
    "SR = np.sqrt(zeta - 2 * alpha * Rf + delta * Rf**2)"
   ]
  },
  {
   "cell_type": "code",
   "execution_count": 38,
   "id": "1650244e-0c75-4fc5-b2fe-70595f1ac79d",
   "metadata": {},
   "outputs": [
    {
     "data": {
      "text/plain": [
       "0.40356559934950903"
      ]
     },
     "execution_count": 38,
     "metadata": {},
     "output_type": "execute_result"
    }
   ],
   "source": [
    "SR"
   ]
  },
  {
   "cell_type": "code",
   "execution_count": 39,
   "id": "dd1dad4a-4cf2-423c-8ec9-9b66cc8564e5",
   "metadata": {},
   "outputs": [],
   "source": [
    "# lb = (Rp - Rf) / (zeta - 2 * alpha * Rf + delta * Rf * Rf)"
   ]
  },
  {
   "cell_type": "code",
   "execution_count": 40,
   "id": "cd011c8e-12f1-4753-be18-2740f9a7ceb9",
   "metadata": {},
   "outputs": [],
   "source": [
    "# lb"
   ]
  },
  {
   "cell_type": "code",
   "execution_count": 41,
   "id": "1ff46623-f657-4852-bedb-70d66c42dea5",
   "metadata": {},
   "outputs": [],
   "source": [
    "Rtg = (alpha * Rf - zeta) / (delta * Rf - alpha)"
   ]
  },
  {
   "cell_type": "code",
   "execution_count": 42,
   "id": "70c77695-696c-41e6-b568-a4574bf39c4f",
   "metadata": {},
   "outputs": [
    {
     "data": {
      "text/plain": [
       "1.4862735358446897"
      ]
     },
     "execution_count": 42,
     "metadata": {},
     "output_type": "execute_result"
    }
   ],
   "source": [
    "Rtg"
   ]
  },
  {
   "cell_type": "code",
   "execution_count": 43,
   "id": "8e898f95-8761-4cef-b99f-95a464c0131f",
   "metadata": {},
   "outputs": [
    {
     "data": {
      "text/plain": [
       "array([ 0.49265898,  0.1080583 , -1.95244213, -0.01243221,  0.52952459,\n",
       "       -0.26109318, -0.24849476,  0.28315077,  0.69575308,  1.36531657])"
      ]
     },
     "execution_count": 43,
     "metadata": {},
     "output_type": "execute_result"
    }
   ],
   "source": [
    "a = (zeta * np.dot(np.linalg.inv(V), e) - alpha * np.dot(np.linalg.inv(V), R)) / (zeta * delta - alpha ** 2)\n",
    "a"
   ]
  },
  {
   "cell_type": "code",
   "execution_count": 44,
   "id": "2026f339-3c9f-40b9-a402-731feb0625a0",
   "metadata": {},
   "outputs": [
    {
     "data": {
      "text/plain": [
       "array([ 0.05067251, -0.21673729,  1.79411608,  0.07839701, -0.60080647,\n",
       "        0.11143973,  0.83439661, -0.13966512, -0.37887357, -1.53293948])"
      ]
     },
     "execution_count": 44,
     "metadata": {},
     "output_type": "execute_result"
    }
   ],
   "source": [
    "b = (delta * np.dot(np.linalg.inv(V), R) - alpha * np.dot(np.linalg.inv(V), e)) / (zeta * delta - alpha ** 2)\n",
    "b"
   ]
  },
  {
   "cell_type": "code",
   "execution_count": 45,
   "id": "5ab58c3f-7d3a-4ee1-be7b-fab04bd9fa4f",
   "metadata": {},
   "outputs": [],
   "source": [
    "w_star = a + np.dot(b, Rtg)"
   ]
  },
  {
   "cell_type": "code",
   "execution_count": 46,
   "id": "d51ce3f3-7d0d-4e88-8c76-9c825648276a",
   "metadata": {},
   "outputs": [
    {
     "data": {
      "text/plain": [
       "array([ 0.56797218, -0.2140726 ,  0.71410511,  0.10408719, -0.36343817,\n",
       "       -0.09546326,  0.99164683,  0.0755702 ,  0.13264333, -0.91305081])"
      ]
     },
     "execution_count": 46,
     "metadata": {},
     "output_type": "execute_result"
    }
   ],
   "source": [
    "w_star"
   ]
  },
  {
   "cell_type": "code",
   "execution_count": 47,
   "id": "6c9b1930-0ed1-4ccd-9cf6-82c759fdf472",
   "metadata": {},
   "outputs": [
    {
     "data": {
      "text/plain": [
       "0.9999999999999991"
      ]
     },
     "execution_count": 47,
     "metadata": {},
     "output_type": "execute_result"
    }
   ],
   "source": [
    "np.dot(w_star,e)"
   ]
  },
  {
   "cell_type": "code",
   "execution_count": 48,
   "id": "13dbb96c-dd10-492e-8aa5-62501643828b",
   "metadata": {},
   "outputs": [],
   "source": [
    "df2['Portfolio Weight'] = w_star"
   ]
  },
  {
   "cell_type": "code",
   "execution_count": 49,
   "id": "b19dc6d5-9ddd-4f96-8159-029954adbb82",
   "metadata": {},
   "outputs": [
    {
     "data": {
      "text/html": [
       "<div>\n",
       "<style scoped>\n",
       "    .dataframe tbody tr th:only-of-type {\n",
       "        vertical-align: middle;\n",
       "    }\n",
       "\n",
       "    .dataframe tbody tr th {\n",
       "        vertical-align: top;\n",
       "    }\n",
       "\n",
       "    .dataframe thead th {\n",
       "        text-align: right;\n",
       "    }\n",
       "</style>\n",
       "<table border=\"1\" class=\"dataframe\">\n",
       "  <thead>\n",
       "    <tr style=\"text-align: right;\">\n",
       "      <th></th>\n",
       "      <th>Portfolio Weight</th>\n",
       "    </tr>\n",
       "    <tr>\n",
       "      <th>portfolio</th>\n",
       "      <th></th>\n",
       "    </tr>\n",
       "  </thead>\n",
       "  <tbody>\n",
       "    <tr>\n",
       "      <th>NoDur</th>\n",
       "      <td>0.567972</td>\n",
       "    </tr>\n",
       "    <tr>\n",
       "      <th>Durbl</th>\n",
       "      <td>-0.214073</td>\n",
       "    </tr>\n",
       "    <tr>\n",
       "      <th>Manuf</th>\n",
       "      <td>0.714105</td>\n",
       "    </tr>\n",
       "    <tr>\n",
       "      <th>Enrgy</th>\n",
       "      <td>0.104087</td>\n",
       "    </tr>\n",
       "    <tr>\n",
       "      <th>HiTec</th>\n",
       "      <td>-0.363438</td>\n",
       "    </tr>\n",
       "    <tr>\n",
       "      <th>Telcm</th>\n",
       "      <td>-0.095463</td>\n",
       "    </tr>\n",
       "    <tr>\n",
       "      <th>Shops</th>\n",
       "      <td>0.991647</td>\n",
       "    </tr>\n",
       "    <tr>\n",
       "      <th>Hlth</th>\n",
       "      <td>0.075570</td>\n",
       "    </tr>\n",
       "    <tr>\n",
       "      <th>Utils</th>\n",
       "      <td>0.132643</td>\n",
       "    </tr>\n",
       "    <tr>\n",
       "      <th>Other</th>\n",
       "      <td>-0.913051</td>\n",
       "    </tr>\n",
       "  </tbody>\n",
       "</table>\n",
       "</div>"
      ],
      "text/plain": [
       "           Portfolio Weight\n",
       "portfolio                  \n",
       "NoDur              0.567972\n",
       "Durbl             -0.214073\n",
       "Manuf              0.714105\n",
       "Enrgy              0.104087\n",
       "HiTec             -0.363438\n",
       "Telcm             -0.095463\n",
       "Shops              0.991647\n",
       "Hlth               0.075570\n",
       "Utils              0.132643\n",
       "Other             -0.913051"
      ]
     },
     "execution_count": 49,
     "metadata": {},
     "output_type": "execute_result"
    }
   ],
   "source": [
    "df2[['Portfolio Weight']]"
   ]
  },
  {
   "cell_type": "code",
   "execution_count": 50,
   "id": "8766f2dd-afb1-482c-9cbe-4f21887d8a7e",
   "metadata": {},
   "outputs": [
    {
     "data": {
      "text/plain": [
       "0.12999999999999967"
      ]
     },
     "execution_count": 50,
     "metadata": {},
     "output_type": "execute_result"
    }
   ],
   "source": [
    "#Orthogonal Portfolio\n",
    "\n",
    "Rp0 = Rmv - ((zeta * delta - alpha **2)/(delta**2 * (Rtg - Rmv)))\n",
    "Rp0"
   ]
  },
  {
   "cell_type": "code",
   "execution_count": 51,
   "id": "bb95335e-c71a-49c4-b666-dbbad83b1f13",
   "metadata": {},
   "outputs": [
    {
     "data": {
      "text/plain": [
       "4.524526399957113"
      ]
     },
     "execution_count": 51,
     "metadata": {},
     "output_type": "execute_result"
    }
   ],
   "source": [
    "#Variance of return for frontier portfolio\n",
    "var_p_squared_2 = 1/delta + delta / (zeta*delta - alpha**2) * (Rp0 - Rmv)**2\n",
    "sigma_p_2 = np.sqrt(var_p_squared_2)\n",
    "sigma_p_2"
   ]
  },
  {
   "cell_type": "code",
   "execution_count": null,
   "id": "ff15f6f6-e884-4d1f-ab9c-7bc5580d37b5",
   "metadata": {},
   "outputs": [],
   "source": []
  }
 ],
 "metadata": {
  "kernelspec": {
   "display_name": "Python 3 (ipykernel)",
   "language": "python",
   "name": "python3"
  },
  "language_info": {
   "codemirror_mode": {
    "name": "ipython",
    "version": 3
   },
   "file_extension": ".py",
   "mimetype": "text/x-python",
   "name": "python",
   "nbconvert_exporter": "python",
   "pygments_lexer": "ipython3",
   "version": "3.12.4"
  }
 },
 "nbformat": 4,
 "nbformat_minor": 5
}
