{
 "cells": [
  {
   "cell_type": "code",
   "execution_count": 1,
   "id": "54d94c79-6e92-4f8c-9606-06bd9ba7fdd4",
   "metadata": {},
   "outputs": [],
   "source": [
    "import pandas as pd\n",
    "import matplotlib.pyplot as plt\n",
    "import numpy as np"
   ]
  },
  {
   "cell_type": "code",
   "execution_count": 2,
   "id": "4b288409-34c6-4189-b492-460e5448effd",
   "metadata": {},
   "outputs": [
    {
     "name": "stderr",
     "output_type": "stream",
     "text": [
      "/opt/anaconda3/lib/python3.12/site-packages/openpyxl/worksheet/_read_only.py:81: UserWarning: Unknown extension is not supported and will be removed\n",
      "  for idx, row in parser.parse():\n",
      "/opt/anaconda3/lib/python3.12/site-packages/openpyxl/worksheet/_read_only.py:81: UserWarning: Unknown extension is not supported and will be removed\n",
      "  for idx, row in parser.parse():\n"
     ]
    },
    {
     "data": {
      "text/html": [
       "<div>\n",
       "<style scoped>\n",
       "    .dataframe tbody tr th:only-of-type {\n",
       "        vertical-align: middle;\n",
       "    }\n",
       "\n",
       "    .dataframe tbody tr th {\n",
       "        vertical-align: top;\n",
       "    }\n",
       "\n",
       "    .dataframe thead th {\n",
       "        text-align: right;\n",
       "    }\n",
       "</style>\n",
       "<table border=\"1\" class=\"dataframe\">\n",
       "  <thead>\n",
       "    <tr style=\"text-align: right;\">\n",
       "      <th></th>\n",
       "      <th>Market</th>\n",
       "      <th>NoDur</th>\n",
       "      <th>Durbl</th>\n",
       "      <th>Manuf</th>\n",
       "      <th>Enrgy</th>\n",
       "      <th>HiTec</th>\n",
       "      <th>Telcm</th>\n",
       "      <th>Shops</th>\n",
       "      <th>Hlth</th>\n",
       "      <th>Utils</th>\n",
       "      <th>Other</th>\n",
       "    </tr>\n",
       "    <tr>\n",
       "      <th>Date</th>\n",
       "      <th></th>\n",
       "      <th></th>\n",
       "      <th></th>\n",
       "      <th></th>\n",
       "      <th></th>\n",
       "      <th></th>\n",
       "      <th></th>\n",
       "      <th></th>\n",
       "      <th></th>\n",
       "      <th></th>\n",
       "      <th></th>\n",
       "    </tr>\n",
       "  </thead>\n",
       "  <tbody>\n",
       "    <tr>\n",
       "      <th>200401</th>\n",
       "      <td>2.22</td>\n",
       "      <td>0.06</td>\n",
       "      <td>-1.07</td>\n",
       "      <td>-0.62</td>\n",
       "      <td>0.44</td>\n",
       "      <td>4.53</td>\n",
       "      <td>1.41</td>\n",
       "      <td>0.45</td>\n",
       "      <td>3.09</td>\n",
       "      <td>1.92</td>\n",
       "      <td>2.88</td>\n",
       "    </tr>\n",
       "    <tr>\n",
       "      <th>200402</th>\n",
       "      <td>1.46</td>\n",
       "      <td>4.25</td>\n",
       "      <td>-0.07</td>\n",
       "      <td>1.95</td>\n",
       "      <td>4.69</td>\n",
       "      <td>-2.92</td>\n",
       "      <td>-0.52</td>\n",
       "      <td>6.09</td>\n",
       "      <td>0.89</td>\n",
       "      <td>2.07</td>\n",
       "      <td>2.16</td>\n",
       "    </tr>\n",
       "    <tr>\n",
       "      <th>200403</th>\n",
       "      <td>-1.23</td>\n",
       "      <td>-0.09</td>\n",
       "      <td>-1.15</td>\n",
       "      <td>-0.27</td>\n",
       "      <td>-0.13</td>\n",
       "      <td>-2.55</td>\n",
       "      <td>-2.07</td>\n",
       "      <td>0.29</td>\n",
       "      <td>-3.96</td>\n",
       "      <td>1.13</td>\n",
       "      <td>-0.63</td>\n",
       "    </tr>\n",
       "    <tr>\n",
       "      <th>200404</th>\n",
       "      <td>-1.75</td>\n",
       "      <td>1.42</td>\n",
       "      <td>2.30</td>\n",
       "      <td>-0.17</td>\n",
       "      <td>2.52</td>\n",
       "      <td>-4.91</td>\n",
       "      <td>-0.48</td>\n",
       "      <td>-2.70</td>\n",
       "      <td>3.54</td>\n",
       "      <td>-3.55</td>\n",
       "      <td>-3.76</td>\n",
       "    </tr>\n",
       "    <tr>\n",
       "      <th>200405</th>\n",
       "      <td>1.23</td>\n",
       "      <td>-1.89</td>\n",
       "      <td>-1.64</td>\n",
       "      <td>1.61</td>\n",
       "      <td>0.39</td>\n",
       "      <td>4.85</td>\n",
       "      <td>-2.95</td>\n",
       "      <td>0.30</td>\n",
       "      <td>-0.42</td>\n",
       "      <td>1.28</td>\n",
       "      <td>1.86</td>\n",
       "    </tr>\n",
       "    <tr>\n",
       "      <th>...</th>\n",
       "      <td>...</td>\n",
       "      <td>...</td>\n",
       "      <td>...</td>\n",
       "      <td>...</td>\n",
       "      <td>...</td>\n",
       "      <td>...</td>\n",
       "      <td>...</td>\n",
       "      <td>...</td>\n",
       "      <td>...</td>\n",
       "      <td>...</td>\n",
       "      <td>...</td>\n",
       "    </tr>\n",
       "    <tr>\n",
       "      <th>201308</th>\n",
       "      <td>-2.69</td>\n",
       "      <td>-4.00</td>\n",
       "      <td>-1.00</td>\n",
       "      <td>-1.95</td>\n",
       "      <td>-1.83</td>\n",
       "      <td>-0.12</td>\n",
       "      <td>-3.28</td>\n",
       "      <td>-4.21</td>\n",
       "      <td>-3.49</td>\n",
       "      <td>-4.43</td>\n",
       "      <td>-3.66</td>\n",
       "    </tr>\n",
       "    <tr>\n",
       "      <th>201309</th>\n",
       "      <td>3.76</td>\n",
       "      <td>1.94</td>\n",
       "      <td>6.46</td>\n",
       "      <td>5.20</td>\n",
       "      <td>2.03</td>\n",
       "      <td>3.77</td>\n",
       "      <td>4.33</td>\n",
       "      <td>4.46</td>\n",
       "      <td>4.19</td>\n",
       "      <td>1.05</td>\n",
       "      <td>3.83</td>\n",
       "    </tr>\n",
       "    <tr>\n",
       "      <th>201310</th>\n",
       "      <td>4.17</td>\n",
       "      <td>4.75</td>\n",
       "      <td>0.72</td>\n",
       "      <td>4.56</td>\n",
       "      <td>4.86</td>\n",
       "      <td>3.80</td>\n",
       "      <td>5.52</td>\n",
       "      <td>5.08</td>\n",
       "      <td>3.47</td>\n",
       "      <td>3.35</td>\n",
       "      <td>3.87</td>\n",
       "    </tr>\n",
       "    <tr>\n",
       "      <th>201311</th>\n",
       "      <td>3.12</td>\n",
       "      <td>1.29</td>\n",
       "      <td>1.81</td>\n",
       "      <td>2.95</td>\n",
       "      <td>0.85</td>\n",
       "      <td>3.65</td>\n",
       "      <td>0.27</td>\n",
       "      <td>3.67</td>\n",
       "      <td>4.54</td>\n",
       "      <td>-1.81</td>\n",
       "      <td>4.74</td>\n",
       "    </tr>\n",
       "    <tr>\n",
       "      <th>201312</th>\n",
       "      <td>2.81</td>\n",
       "      <td>2.65</td>\n",
       "      <td>1.18</td>\n",
       "      <td>3.13</td>\n",
       "      <td>2.95</td>\n",
       "      <td>4.04</td>\n",
       "      <td>3.96</td>\n",
       "      <td>0.20</td>\n",
       "      <td>0.71</td>\n",
       "      <td>1.79</td>\n",
       "      <td>3.11</td>\n",
       "    </tr>\n",
       "  </tbody>\n",
       "</table>\n",
       "<p>120 rows × 11 columns</p>\n",
       "</div>"
      ],
      "text/plain": [
       "        Market  NoDur  Durbl  Manuf  Enrgy  HiTec  Telcm  Shops  Hlth  Utils  \\\n",
       "Date                                                                           \n",
       "200401    2.22   0.06  -1.07  -0.62   0.44   4.53   1.41   0.45  3.09   1.92   \n",
       "200402    1.46   4.25  -0.07   1.95   4.69  -2.92  -0.52   6.09  0.89   2.07   \n",
       "200403   -1.23  -0.09  -1.15  -0.27  -0.13  -2.55  -2.07   0.29 -3.96   1.13   \n",
       "200404   -1.75   1.42   2.30  -0.17   2.52  -4.91  -0.48  -2.70  3.54  -3.55   \n",
       "200405    1.23  -1.89  -1.64   1.61   0.39   4.85  -2.95   0.30 -0.42   1.28   \n",
       "...        ...    ...    ...    ...    ...    ...    ...    ...   ...    ...   \n",
       "201308   -2.69  -4.00  -1.00  -1.95  -1.83  -0.12  -3.28  -4.21 -3.49  -4.43   \n",
       "201309    3.76   1.94   6.46   5.20   2.03   3.77   4.33   4.46  4.19   1.05   \n",
       "201310    4.17   4.75   0.72   4.56   4.86   3.80   5.52   5.08  3.47   3.35   \n",
       "201311    3.12   1.29   1.81   2.95   0.85   3.65   0.27   3.67  4.54  -1.81   \n",
       "201312    2.81   2.65   1.18   3.13   2.95   4.04   3.96   0.20  0.71   1.79   \n",
       "\n",
       "        Other  \n",
       "Date           \n",
       "200401   2.88  \n",
       "200402   2.16  \n",
       "200403  -0.63  \n",
       "200404  -3.76  \n",
       "200405   1.86  \n",
       "...       ...  \n",
       "201308  -3.66  \n",
       "201309   3.83  \n",
       "201310   3.87  \n",
       "201311   4.74  \n",
       "201312   3.11  \n",
       "\n",
       "[120 rows x 11 columns]"
      ]
     },
     "execution_count": 2,
     "metadata": {},
     "output_type": "execute_result"
    }
   ],
   "source": [
    "df = pd.read_excel('Market_Portfolio.xlsx')\n",
    "df = df.set_index('Date')\n",
    "\n",
    "df1 = pd.read_excel('Industry_Portfolios.xlsx')\n",
    "df1 = df1.set_index('Date')\n",
    "\n",
    "df = pd.concat([df,df1],axis=1)\n",
    "df"
   ]
  },
  {
   "cell_type": "markdown",
   "id": "3312e1a9-56e0-425b-b5db-bd1bbc56aa58",
   "metadata": {},
   "source": [
    "# Question 1 - Method 1 use manual formula. Beta = cov 1,m / var m => then find alpha"
   ]
  },
  {
   "cell_type": "code",
   "execution_count": 4,
   "id": "fda3bf9c-cfba-425e-8260-f5a5dc9b0eaa",
   "metadata": {},
   "outputs": [
    {
     "data": {
      "text/html": [
       "<div>\n",
       "<style scoped>\n",
       "    .dataframe tbody tr th:only-of-type {\n",
       "        vertical-align: middle;\n",
       "    }\n",
       "\n",
       "    .dataframe tbody tr th {\n",
       "        vertical-align: top;\n",
       "    }\n",
       "\n",
       "    .dataframe thead th {\n",
       "        text-align: right;\n",
       "    }\n",
       "</style>\n",
       "<table border=\"1\" class=\"dataframe\">\n",
       "  <thead>\n",
       "    <tr style=\"text-align: right;\">\n",
       "      <th></th>\n",
       "      <th>Market</th>\n",
       "      <th>NoDur</th>\n",
       "      <th>Durbl</th>\n",
       "      <th>Manuf</th>\n",
       "      <th>Enrgy</th>\n",
       "      <th>HiTec</th>\n",
       "      <th>Telcm</th>\n",
       "      <th>Shops</th>\n",
       "      <th>Hlth</th>\n",
       "      <th>Utils</th>\n",
       "      <th>Other</th>\n",
       "    </tr>\n",
       "  </thead>\n",
       "  <tbody>\n",
       "    <tr>\n",
       "      <th>Market</th>\n",
       "      <td>18.846466</td>\n",
       "      <td>12.300096</td>\n",
       "      <td>31.069071</td>\n",
       "      <td>22.047469</td>\n",
       "      <td>18.278244</td>\n",
       "      <td>21.352470</td>\n",
       "      <td>16.975563</td>\n",
       "      <td>15.576461</td>\n",
       "      <td>12.684344</td>\n",
       "      <td>10.141021</td>\n",
       "      <td>22.753517</td>\n",
       "    </tr>\n",
       "    <tr>\n",
       "      <th>NoDur</th>\n",
       "      <td>12.300096</td>\n",
       "      <td>11.193422</td>\n",
       "      <td>18.449666</td>\n",
       "      <td>14.104907</td>\n",
       "      <td>10.531341</td>\n",
       "      <td>12.922949</td>\n",
       "      <td>11.968078</td>\n",
       "      <td>10.170832</td>\n",
       "      <td>9.953112</td>\n",
       "      <td>7.866653</td>\n",
       "      <td>14.438409</td>\n",
       "    </tr>\n",
       "    <tr>\n",
       "      <th>Durbl</th>\n",
       "      <td>31.069071</td>\n",
       "      <td>18.449666</td>\n",
       "      <td>69.920577</td>\n",
       "      <td>39.178097</td>\n",
       "      <td>27.019794</td>\n",
       "      <td>35.466652</td>\n",
       "      <td>27.490543</td>\n",
       "      <td>27.444731</td>\n",
       "      <td>16.824003</td>\n",
       "      <td>12.746136</td>\n",
       "      <td>39.361987</td>\n",
       "    </tr>\n",
       "    <tr>\n",
       "      <th>Manuf</th>\n",
       "      <td>22.047469</td>\n",
       "      <td>14.104907</td>\n",
       "      <td>39.178097</td>\n",
       "      <td>28.198970</td>\n",
       "      <td>23.145380</td>\n",
       "      <td>24.618739</td>\n",
       "      <td>19.550150</td>\n",
       "      <td>17.622867</td>\n",
       "      <td>13.596447</td>\n",
       "      <td>11.440612</td>\n",
       "      <td>26.313423</td>\n",
       "    </tr>\n",
       "    <tr>\n",
       "      <th>Enrgy</th>\n",
       "      <td>18.278244</td>\n",
       "      <td>10.531341</td>\n",
       "      <td>27.019794</td>\n",
       "      <td>23.145380</td>\n",
       "      <td>36.984933</td>\n",
       "      <td>19.267276</td>\n",
       "      <td>15.366817</td>\n",
       "      <td>11.297800</td>\n",
       "      <td>9.630327</td>\n",
       "      <td>14.027168</td>\n",
       "      <td>18.320469</td>\n",
       "    </tr>\n",
       "    <tr>\n",
       "      <th>HiTec</th>\n",
       "      <td>21.352470</td>\n",
       "      <td>12.922949</td>\n",
       "      <td>35.466652</td>\n",
       "      <td>24.618739</td>\n",
       "      <td>19.267276</td>\n",
       "      <td>28.957220</td>\n",
       "      <td>18.708273</td>\n",
       "      <td>17.837115</td>\n",
       "      <td>13.254064</td>\n",
       "      <td>10.304187</td>\n",
       "      <td>23.855470</td>\n",
       "    </tr>\n",
       "    <tr>\n",
       "      <th>Telcm</th>\n",
       "      <td>16.975563</td>\n",
       "      <td>11.968078</td>\n",
       "      <td>27.490543</td>\n",
       "      <td>19.550150</td>\n",
       "      <td>15.366817</td>\n",
       "      <td>18.708273</td>\n",
       "      <td>19.787227</td>\n",
       "      <td>14.169356</td>\n",
       "      <td>11.506599</td>\n",
       "      <td>10.991596</td>\n",
       "      <td>19.610836</td>\n",
       "    </tr>\n",
       "    <tr>\n",
       "      <th>Shops</th>\n",
       "      <td>15.576461</td>\n",
       "      <td>10.170832</td>\n",
       "      <td>27.444731</td>\n",
       "      <td>17.622867</td>\n",
       "      <td>11.297800</td>\n",
       "      <td>17.837115</td>\n",
       "      <td>14.169356</td>\n",
       "      <td>16.759084</td>\n",
       "      <td>10.178849</td>\n",
       "      <td>6.694350</td>\n",
       "      <td>19.226524</td>\n",
       "    </tr>\n",
       "    <tr>\n",
       "      <th>Hlth</th>\n",
       "      <td>12.684344</td>\n",
       "      <td>9.953112</td>\n",
       "      <td>16.824003</td>\n",
       "      <td>13.596447</td>\n",
       "      <td>9.630327</td>\n",
       "      <td>13.254064</td>\n",
       "      <td>11.506599</td>\n",
       "      <td>10.178849</td>\n",
       "      <td>14.342669</td>\n",
       "      <td>7.475036</td>\n",
       "      <td>14.864553</td>\n",
       "    </tr>\n",
       "    <tr>\n",
       "      <th>Utils</th>\n",
       "      <td>10.141021</td>\n",
       "      <td>7.866653</td>\n",
       "      <td>12.746136</td>\n",
       "      <td>11.440612</td>\n",
       "      <td>14.027168</td>\n",
       "      <td>10.304187</td>\n",
       "      <td>10.991596</td>\n",
       "      <td>6.694350</td>\n",
       "      <td>7.475036</td>\n",
       "      <td>13.703052</td>\n",
       "      <td>9.992960</td>\n",
       "    </tr>\n",
       "    <tr>\n",
       "      <th>Other</th>\n",
       "      <td>22.753517</td>\n",
       "      <td>14.438409</td>\n",
       "      <td>39.361987</td>\n",
       "      <td>26.313423</td>\n",
       "      <td>18.320469</td>\n",
       "      <td>23.855470</td>\n",
       "      <td>19.610836</td>\n",
       "      <td>19.226524</td>\n",
       "      <td>14.864553</td>\n",
       "      <td>9.992960</td>\n",
       "      <td>31.163771</td>\n",
       "    </tr>\n",
       "  </tbody>\n",
       "</table>\n",
       "</div>"
      ],
      "text/plain": [
       "           Market      NoDur      Durbl      Manuf      Enrgy      HiTec  \\\n",
       "Market  18.846466  12.300096  31.069071  22.047469  18.278244  21.352470   \n",
       "NoDur   12.300096  11.193422  18.449666  14.104907  10.531341  12.922949   \n",
       "Durbl   31.069071  18.449666  69.920577  39.178097  27.019794  35.466652   \n",
       "Manuf   22.047469  14.104907  39.178097  28.198970  23.145380  24.618739   \n",
       "Enrgy   18.278244  10.531341  27.019794  23.145380  36.984933  19.267276   \n",
       "HiTec   21.352470  12.922949  35.466652  24.618739  19.267276  28.957220   \n",
       "Telcm   16.975563  11.968078  27.490543  19.550150  15.366817  18.708273   \n",
       "Shops   15.576461  10.170832  27.444731  17.622867  11.297800  17.837115   \n",
       "Hlth    12.684344   9.953112  16.824003  13.596447   9.630327  13.254064   \n",
       "Utils   10.141021   7.866653  12.746136  11.440612  14.027168  10.304187   \n",
       "Other   22.753517  14.438409  39.361987  26.313423  18.320469  23.855470   \n",
       "\n",
       "            Telcm      Shops       Hlth      Utils      Other  \n",
       "Market  16.975563  15.576461  12.684344  10.141021  22.753517  \n",
       "NoDur   11.968078  10.170832   9.953112   7.866653  14.438409  \n",
       "Durbl   27.490543  27.444731  16.824003  12.746136  39.361987  \n",
       "Manuf   19.550150  17.622867  13.596447  11.440612  26.313423  \n",
       "Enrgy   15.366817  11.297800   9.630327  14.027168  18.320469  \n",
       "HiTec   18.708273  17.837115  13.254064  10.304187  23.855470  \n",
       "Telcm   19.787227  14.169356  11.506599  10.991596  19.610836  \n",
       "Shops   14.169356  16.759084  10.178849   6.694350  19.226524  \n",
       "Hlth    11.506599  10.178849  14.342669   7.475036  14.864553  \n",
       "Utils   10.991596   6.694350   7.475036  13.703052   9.992960  \n",
       "Other   19.610836  19.226524  14.864553   9.992960  31.163771  "
      ]
     },
     "execution_count": 4,
     "metadata": {},
     "output_type": "execute_result"
    }
   ],
   "source": [
    "df_cov = df.cov()\n",
    "df_cov"
   ]
  },
  {
   "cell_type": "code",
   "execution_count": 5,
   "id": "c3919eab-834e-4271-8160-fbda2a9be27c",
   "metadata": {},
   "outputs": [
    {
     "data": {
      "text/plain": [
       "['NoDur',\n",
       " 'Durbl',\n",
       " 'Manuf',\n",
       " 'Enrgy',\n",
       " 'HiTec',\n",
       " 'Telcm',\n",
       " 'Shops',\n",
       " 'Hlth',\n",
       " 'Utils',\n",
       " 'Other']"
      ]
     },
     "execution_count": 5,
     "metadata": {},
     "output_type": "execute_result"
    }
   ],
   "source": [
    "industry_list = list(df1.columns)\n",
    "industry_list"
   ]
  },
  {
   "cell_type": "code",
   "execution_count": 6,
   "id": "6a6df00b-39f2-4680-bb33-66a103feceed",
   "metadata": {},
   "outputs": [],
   "source": [
    "def get_beta (industry):\n",
    "    cov_im = df_cov.loc['Market', industry]\n",
    "    var_m = df_cov.loc['Market','Market']\n",
    "    beta = cov_im / var_m\n",
    "    return beta"
   ]
  },
  {
   "cell_type": "code",
   "execution_count": 7,
   "id": "ab00e88b-4ebb-4b24-84cf-c70b3888a1b2",
   "metadata": {},
   "outputs": [],
   "source": [
    "def get_alpha (industry):\n",
    "    Ri = df[industry]\n",
    "    Rf = 0.13                         #TUNE!\n",
    "    beta = get_beta(industry)\n",
    "    Rm = df['Market']\n",
    "    alpha = (Ri - Rf) - (beta*(Rm - Rf))\n",
    "    return np.average(alpha)"
   ]
  },
  {
   "cell_type": "code",
   "execution_count": 8,
   "id": "85684b4d-75f8-44a3-a5d1-1d6ed123bfc6",
   "metadata": {},
   "outputs": [
    {
     "name": "stdout",
     "output_type": "stream",
     "text": [
      "0.6526473559635406\n",
      "0.36944288006820164\n"
     ]
    }
   ],
   "source": [
    "print(get_beta('NoDur'))\n",
    "print(get_alpha('NoDur'))"
   ]
  },
  {
   "cell_type": "code",
   "execution_count": 9,
   "id": "5483401a-a68a-4d0f-b08f-6c06ebbed0af",
   "metadata": {},
   "outputs": [
    {
     "data": {
      "text/html": [
       "<div>\n",
       "<style scoped>\n",
       "    .dataframe tbody tr th:only-of-type {\n",
       "        vertical-align: middle;\n",
       "    }\n",
       "\n",
       "    .dataframe tbody tr th {\n",
       "        vertical-align: top;\n",
       "    }\n",
       "\n",
       "    .dataframe thead th {\n",
       "        text-align: right;\n",
       "    }\n",
       "</style>\n",
       "<table border=\"1\" class=\"dataframe\">\n",
       "  <thead>\n",
       "    <tr style=\"text-align: right;\">\n",
       "      <th></th>\n",
       "      <th>Alpha</th>\n",
       "      <th>Beta</th>\n",
       "    </tr>\n",
       "    <tr>\n",
       "      <th>Industry</th>\n",
       "      <th></th>\n",
       "      <th></th>\n",
       "    </tr>\n",
       "  </thead>\n",
       "  <tbody>\n",
       "    <tr>\n",
       "      <th>NoDur</th>\n",
       "      <td>0.369443</td>\n",
       "      <td>0.652647</td>\n",
       "    </tr>\n",
       "    <tr>\n",
       "      <th>Durbl</th>\n",
       "      <td>-0.415599</td>\n",
       "      <td>1.648536</td>\n",
       "    </tr>\n",
       "    <tr>\n",
       "      <th>Manuf</th>\n",
       "      <td>0.159771</td>\n",
       "      <td>1.169846</td>\n",
       "    </tr>\n",
       "    <tr>\n",
       "      <th>Enrgy</th>\n",
       "      <td>0.501719</td>\n",
       "      <td>0.969850</td>\n",
       "    </tr>\n",
       "    <tr>\n",
       "      <th>HiTec</th>\n",
       "      <td>-0.064020</td>\n",
       "      <td>1.132969</td>\n",
       "    </tr>\n",
       "    <tr>\n",
       "      <th>Telcm</th>\n",
       "      <td>0.194691</td>\n",
       "      <td>0.900729</td>\n",
       "    </tr>\n",
       "    <tr>\n",
       "      <th>Shops</th>\n",
       "      <td>0.275492</td>\n",
       "      <td>0.826492</td>\n",
       "    </tr>\n",
       "    <tr>\n",
       "      <th>Hlth</th>\n",
       "      <td>0.237841</td>\n",
       "      <td>0.673036</td>\n",
       "    </tr>\n",
       "    <tr>\n",
       "      <th>Utils</th>\n",
       "      <td>0.444585</td>\n",
       "      <td>0.538086</td>\n",
       "    </tr>\n",
       "    <tr>\n",
       "      <th>Other</th>\n",
       "      <td>-0.387135</td>\n",
       "      <td>1.207309</td>\n",
       "    </tr>\n",
       "  </tbody>\n",
       "</table>\n",
       "</div>"
      ],
      "text/plain": [
       "             Alpha      Beta\n",
       "Industry                    \n",
       "NoDur     0.369443  0.652647\n",
       "Durbl    -0.415599  1.648536\n",
       "Manuf     0.159771  1.169846\n",
       "Enrgy     0.501719  0.969850\n",
       "HiTec    -0.064020  1.132969\n",
       "Telcm     0.194691  0.900729\n",
       "Shops     0.275492  0.826492\n",
       "Hlth      0.237841  0.673036\n",
       "Utils     0.444585  0.538086\n",
       "Other    -0.387135  1.207309"
      ]
     },
     "execution_count": 9,
     "metadata": {},
     "output_type": "execute_result"
    }
   ],
   "source": [
    "industry_list = list(df.columns[1:])\n",
    "industry_list\n",
    "\n",
    "df3 = pd.DataFrame()\n",
    "df3['Industry'] = industry_list\n",
    "df3['Alpha'] = list(map(get_alpha, industry_list))\n",
    "df3['Beta'] = list(map(get_beta, industry_list))\n",
    "\n",
    "df3 = df3.set_index('Industry')\n",
    "df3"
   ]
  },
  {
   "cell_type": "markdown",
   "id": "e05292a1-bfe1-4f66-917a-e8bb9f7757e3",
   "metadata": {},
   "source": []
  },
  {
   "cell_type": "markdown",
   "id": "747680f8-276f-4a7d-b5d1-89b10642b2d1",
   "metadata": {},
   "source": [
    "# Question 1 - Method 2 (use linear regression np.polyfit())"
   ]
  },
  {
   "cell_type": "code",
   "execution_count": 12,
   "id": "1615aca5-701d-4d41-bc3a-a9c457a836ec",
   "metadata": {},
   "outputs": [],
   "source": [
    "from scipy.stats import linregress"
   ]
  },
  {
   "cell_type": "code",
   "execution_count": 13,
   "id": "e150db63-3726-4cb1-bb40-b8115b096441",
   "metadata": {},
   "outputs": [],
   "source": [
    "industry_list = list(df.columns[1:])\n",
    "Rf = 0.13                 #TUNE!!"
   ]
  },
  {
   "cell_type": "code",
   "execution_count": 14,
   "id": "fd2e8dc0-abdf-444a-99ca-9289d3cde48e",
   "metadata": {},
   "outputs": [
    {
     "data": {
      "text/plain": [
       "['NoDur',\n",
       " 'Durbl',\n",
       " 'Manuf',\n",
       " 'Enrgy',\n",
       " 'HiTec',\n",
       " 'Telcm',\n",
       " 'Shops',\n",
       " 'Hlth',\n",
       " 'Utils',\n",
       " 'Other']"
      ]
     },
     "execution_count": 14,
     "metadata": {},
     "output_type": "execute_result"
    }
   ],
   "source": [
    "industry_list"
   ]
  },
  {
   "cell_type": "code",
   "execution_count": 15,
   "id": "241b9fe3-fd0f-43e2-9ce2-c06860a3609e",
   "metadata": {},
   "outputs": [],
   "source": [
    "list_beta = []\n",
    "list_alpha = []"
   ]
  },
  {
   "cell_type": "code",
   "execution_count": 16,
   "id": "a26146e4-61de-472c-aca4-19f0a9bc5ec6",
   "metadata": {},
   "outputs": [
    {
     "data": {
      "text/plain": [
       "\u001b[0;31mSignature:\u001b[0m       \u001b[0mnp\u001b[0m\u001b[0;34m.\u001b[0m\u001b[0mpolyfit\u001b[0m\u001b[0;34m(\u001b[0m\u001b[0mx\u001b[0m\u001b[0;34m,\u001b[0m \u001b[0my\u001b[0m\u001b[0;34m,\u001b[0m \u001b[0mdeg\u001b[0m\u001b[0;34m,\u001b[0m \u001b[0mrcond\u001b[0m\u001b[0;34m=\u001b[0m\u001b[0;32mNone\u001b[0m\u001b[0;34m,\u001b[0m \u001b[0mfull\u001b[0m\u001b[0;34m=\u001b[0m\u001b[0;32mFalse\u001b[0m\u001b[0;34m,\u001b[0m \u001b[0mw\u001b[0m\u001b[0;34m=\u001b[0m\u001b[0;32mNone\u001b[0m\u001b[0;34m,\u001b[0m \u001b[0mcov\u001b[0m\u001b[0;34m=\u001b[0m\u001b[0;32mFalse\u001b[0m\u001b[0;34m)\u001b[0m\u001b[0;34m\u001b[0m\u001b[0;34m\u001b[0m\u001b[0m\n",
       "\u001b[0;31mCall signature:\u001b[0m  \u001b[0mnp\u001b[0m\u001b[0;34m.\u001b[0m\u001b[0mpolyfit\u001b[0m\u001b[0;34m(\u001b[0m\u001b[0;34m*\u001b[0m\u001b[0margs\u001b[0m\u001b[0;34m,\u001b[0m \u001b[0;34m**\u001b[0m\u001b[0mkwargs\u001b[0m\u001b[0;34m)\u001b[0m\u001b[0;34m\u001b[0m\u001b[0;34m\u001b[0m\u001b[0m\n",
       "\u001b[0;31mType:\u001b[0m            _ArrayFunctionDispatcher\n",
       "\u001b[0;31mString form:\u001b[0m     <function polyfit at 0x103a7d260>\n",
       "\u001b[0;31mFile:\u001b[0m            /opt/anaconda3/lib/python3.12/site-packages/numpy/lib/polynomial.py\n",
       "\u001b[0;31mDocstring:\u001b[0m      \n",
       "Least squares polynomial fit.\n",
       "\n",
       ".. note::\n",
       "   This forms part of the old polynomial API. Since version 1.4, the\n",
       "   new polynomial API defined in `numpy.polynomial` is preferred.\n",
       "   A summary of the differences can be found in the\n",
       "   :doc:`transition guide </reference/routines.polynomials>`.\n",
       "\n",
       "Fit a polynomial ``p(x) = p[0] * x**deg + ... + p[deg]`` of degree `deg`\n",
       "to points `(x, y)`. Returns a vector of coefficients `p` that minimises\n",
       "the squared error in the order `deg`, `deg-1`, ... `0`.\n",
       "\n",
       "The `Polynomial.fit <numpy.polynomial.polynomial.Polynomial.fit>` class\n",
       "method is recommended for new code as it is more stable numerically. See\n",
       "the documentation of the method for more information.\n",
       "\n",
       "Parameters\n",
       "----------\n",
       "x : array_like, shape (M,)\n",
       "    x-coordinates of the M sample points ``(x[i], y[i])``.\n",
       "y : array_like, shape (M,) or (M, K)\n",
       "    y-coordinates of the sample points. Several data sets of sample\n",
       "    points sharing the same x-coordinates can be fitted at once by\n",
       "    passing in a 2D-array that contains one dataset per column.\n",
       "deg : int\n",
       "    Degree of the fitting polynomial\n",
       "rcond : float, optional\n",
       "    Relative condition number of the fit. Singular values smaller than\n",
       "    this relative to the largest singular value will be ignored. The\n",
       "    default value is len(x)*eps, where eps is the relative precision of\n",
       "    the float type, about 2e-16 in most cases.\n",
       "full : bool, optional\n",
       "    Switch determining nature of return value. When it is False (the\n",
       "    default) just the coefficients are returned, when True diagnostic\n",
       "    information from the singular value decomposition is also returned.\n",
       "w : array_like, shape (M,), optional\n",
       "    Weights. If not None, the weight ``w[i]`` applies to the unsquared\n",
       "    residual ``y[i] - y_hat[i]`` at ``x[i]``. Ideally the weights are\n",
       "    chosen so that the errors of the products ``w[i]*y[i]`` all have the\n",
       "    same variance.  When using inverse-variance weighting, use\n",
       "    ``w[i] = 1/sigma(y[i])``.  The default value is None.\n",
       "cov : bool or str, optional\n",
       "    If given and not `False`, return not just the estimate but also its\n",
       "    covariance matrix. By default, the covariance are scaled by\n",
       "    chi2/dof, where dof = M - (deg + 1), i.e., the weights are presumed\n",
       "    to be unreliable except in a relative sense and everything is scaled\n",
       "    such that the reduced chi2 is unity. This scaling is omitted if\n",
       "    ``cov='unscaled'``, as is relevant for the case that the weights are\n",
       "    w = 1/sigma, with sigma known to be a reliable estimate of the\n",
       "    uncertainty.\n",
       "\n",
       "Returns\n",
       "-------\n",
       "p : ndarray, shape (deg + 1,) or (deg + 1, K)\n",
       "    Polynomial coefficients, highest power first.  If `y` was 2-D, the\n",
       "    coefficients for `k`-th data set are in ``p[:,k]``.\n",
       "\n",
       "residuals, rank, singular_values, rcond\n",
       "    These values are only returned if ``full == True``\n",
       "\n",
       "    - residuals -- sum of squared residuals of the least squares fit\n",
       "    - rank -- the effective rank of the scaled Vandermonde\n",
       "       coefficient matrix\n",
       "    - singular_values -- singular values of the scaled Vandermonde\n",
       "       coefficient matrix\n",
       "    - rcond -- value of `rcond`.\n",
       "\n",
       "    For more details, see `numpy.linalg.lstsq`.\n",
       "\n",
       "V : ndarray, shape (M,M) or (M,M,K)\n",
       "    Present only if ``full == False`` and ``cov == True``.  The covariance\n",
       "    matrix of the polynomial coefficient estimates.  The diagonal of\n",
       "    this matrix are the variance estimates for each coefficient.  If y\n",
       "    is a 2-D array, then the covariance matrix for the `k`-th data set\n",
       "    are in ``V[:,:,k]``\n",
       "\n",
       "\n",
       "Warns\n",
       "-----\n",
       "RankWarning\n",
       "    The rank of the coefficient matrix in the least-squares fit is\n",
       "    deficient. The warning is only raised if ``full == False``.\n",
       "\n",
       "    The warnings can be turned off by\n",
       "\n",
       "    >>> import warnings\n",
       "    >>> warnings.simplefilter('ignore', np.RankWarning)\n",
       "\n",
       "See Also\n",
       "--------\n",
       "polyval : Compute polynomial values.\n",
       "linalg.lstsq : Computes a least-squares fit.\n",
       "scipy.interpolate.UnivariateSpline : Computes spline fits.\n",
       "\n",
       "Notes\n",
       "-----\n",
       "The solution minimizes the squared error\n",
       "\n",
       ".. math::\n",
       "    E = \\sum_{j=0}^k |p(x_j) - y_j|^2\n",
       "\n",
       "in the equations::\n",
       "\n",
       "    x[0]**n * p[0] + ... + x[0] * p[n-1] + p[n] = y[0]\n",
       "    x[1]**n * p[0] + ... + x[1] * p[n-1] + p[n] = y[1]\n",
       "    ...\n",
       "    x[k]**n * p[0] + ... + x[k] * p[n-1] + p[n] = y[k]\n",
       "\n",
       "The coefficient matrix of the coefficients `p` is a Vandermonde matrix.\n",
       "\n",
       "`polyfit` issues a `RankWarning` when the least-squares fit is badly\n",
       "conditioned. This implies that the best fit is not well-defined due\n",
       "to numerical error. The results may be improved by lowering the polynomial\n",
       "degree or by replacing `x` by `x` - `x`.mean(). The `rcond` parameter\n",
       "can also be set to a value smaller than its default, but the resulting\n",
       "fit may be spurious: including contributions from the small singular\n",
       "values can add numerical noise to the result.\n",
       "\n",
       "Note that fitting polynomial coefficients is inherently badly conditioned\n",
       "when the degree of the polynomial is large or the interval of sample points\n",
       "is badly centered. The quality of the fit should always be checked in these\n",
       "cases. When polynomial fits are not satisfactory, splines may be a good\n",
       "alternative.\n",
       "\n",
       "References\n",
       "----------\n",
       ".. [1] Wikipedia, \"Curve fitting\",\n",
       "       https://en.wikipedia.org/wiki/Curve_fitting\n",
       ".. [2] Wikipedia, \"Polynomial interpolation\",\n",
       "       https://en.wikipedia.org/wiki/Polynomial_interpolation\n",
       "\n",
       "Examples\n",
       "--------\n",
       ">>> import warnings\n",
       ">>> x = np.array([0.0, 1.0, 2.0, 3.0,  4.0,  5.0])\n",
       ">>> y = np.array([0.0, 0.8, 0.9, 0.1, -0.8, -1.0])\n",
       ">>> z = np.polyfit(x, y, 3)\n",
       ">>> z\n",
       "array([ 0.08703704, -0.81349206,  1.69312169, -0.03968254]) # may vary\n",
       "\n",
       "It is convenient to use `poly1d` objects for dealing with polynomials:\n",
       "\n",
       ">>> p = np.poly1d(z)\n",
       ">>> p(0.5)\n",
       "0.6143849206349179 # may vary\n",
       ">>> p(3.5)\n",
       "-0.34732142857143039 # may vary\n",
       ">>> p(10)\n",
       "22.579365079365115 # may vary\n",
       "\n",
       "High-order polynomials may oscillate wildly:\n",
       "\n",
       ">>> with warnings.catch_warnings():\n",
       "...     warnings.simplefilter('ignore', np.RankWarning)\n",
       "...     p30 = np.poly1d(np.polyfit(x, y, 30))\n",
       "...\n",
       ">>> p30(4)\n",
       "-0.80000000000000204 # may vary\n",
       ">>> p30(5)\n",
       "-0.99999999999999445 # may vary\n",
       ">>> p30(4.5)\n",
       "-0.10547061179440398 # may vary\n",
       "\n",
       "Illustration:\n",
       "\n",
       ">>> import matplotlib.pyplot as plt\n",
       ">>> xp = np.linspace(-2, 6, 100)\n",
       ">>> _ = plt.plot(x, y, '.', xp, p(xp), '-', xp, p30(xp), '--')\n",
       ">>> plt.ylim(-2,2)\n",
       "(-2, 2)\n",
       ">>> plt.show()\n",
       "\u001b[0;31mClass docstring:\u001b[0m\n",
       "Class to wrap functions with checks for __array_function__ overrides.\n",
       "\n",
       "All arguments are required, and can only be passed by position.\n",
       "\n",
       "Parameters\n",
       "----------\n",
       "dispatcher : function or None\n",
       "    The dispatcher function that returns a single sequence-like object\n",
       "    of all arguments relevant.  It must have the same signature (except\n",
       "    the default values) as the actual implementation.\n",
       "    If ``None``, this is a ``like=`` dispatcher and the\n",
       "    ``_ArrayFunctionDispatcher`` must be called with ``like`` as the\n",
       "    first (additional and positional) argument.\n",
       "implementation : function\n",
       "    Function that implements the operation on NumPy arrays without\n",
       "    overrides.  Arguments passed calling the ``_ArrayFunctionDispatcher``\n",
       "    will be forwarded to this (and the ``dispatcher``) as if using\n",
       "    ``*args, **kwargs``.\n",
       "\n",
       "Attributes\n",
       "----------\n",
       "_implementation : function\n",
       "    The original implementation passed in."
      ]
     },
     "metadata": {},
     "output_type": "display_data"
    }
   ],
   "source": [
    "np.polyfit?"
   ]
  },
  {
   "cell_type": "code",
   "execution_count": 17,
   "id": "d23e81bb-3a5b-4f36-899d-1baf9cd72c93",
   "metadata": {},
   "outputs": [],
   "source": [
    "for industry in industry_list:\n",
    "    beta_slope, alpha_intercept = np.polyfit (df['Market'] - Rf,  df[industry] - Rf,  1) \n",
    "                                    #independent var (x), such as excess market return, depended var (y) such as excess portfol return \n",
    "    list_beta.append(beta_slope)\n",
    "    list_alpha.append(alpha_intercept)\n",
    "\n"
   ]
  },
  {
   "cell_type": "code",
   "execution_count": 18,
   "id": "b91de2f4-6756-4384-a010-af4fdeeb516a",
   "metadata": {},
   "outputs": [],
   "source": [
    "data = {'Industry':industry_list, 'Alpha': list_alpha, 'Beta': list_beta}"
   ]
  },
  {
   "cell_type": "code",
   "execution_count": 19,
   "id": "909845d5-fa5e-46e8-960b-e8d268db582d",
   "metadata": {},
   "outputs": [
    {
     "data": {
      "text/plain": [
       "10"
      ]
     },
     "execution_count": 19,
     "metadata": {},
     "output_type": "execute_result"
    }
   ],
   "source": [
    "len(industry_list)"
   ]
  },
  {
   "cell_type": "code",
   "execution_count": 20,
   "id": "43fabf36-e432-4dc7-a9c5-cdb649b9fde3",
   "metadata": {},
   "outputs": [
    {
     "data": {
      "text/plain": [
       "10"
      ]
     },
     "execution_count": 20,
     "metadata": {},
     "output_type": "execute_result"
    }
   ],
   "source": [
    "len(list_alpha)"
   ]
  },
  {
   "cell_type": "code",
   "execution_count": 21,
   "id": "0dd49d73-ccea-421f-ab68-cdc11891ce31",
   "metadata": {},
   "outputs": [
    {
     "data": {
      "text/plain": [
       "10"
      ]
     },
     "execution_count": 21,
     "metadata": {},
     "output_type": "execute_result"
    }
   ],
   "source": [
    "len(list_beta)"
   ]
  },
  {
   "cell_type": "code",
   "execution_count": 22,
   "id": "370593bb-8ee0-4e53-abc4-0642a31faeff",
   "metadata": {},
   "outputs": [],
   "source": [
    "new_df = pd.DataFrame(data)"
   ]
  },
  {
   "cell_type": "code",
   "execution_count": 23,
   "id": "078409b6-3f2e-4db5-9eda-299f6d8bac13",
   "metadata": {},
   "outputs": [
    {
     "data": {
      "text/html": [
       "<div>\n",
       "<style scoped>\n",
       "    .dataframe tbody tr th:only-of-type {\n",
       "        vertical-align: middle;\n",
       "    }\n",
       "\n",
       "    .dataframe tbody tr th {\n",
       "        vertical-align: top;\n",
       "    }\n",
       "\n",
       "    .dataframe thead th {\n",
       "        text-align: right;\n",
       "    }\n",
       "</style>\n",
       "<table border=\"1\" class=\"dataframe\">\n",
       "  <thead>\n",
       "    <tr style=\"text-align: right;\">\n",
       "      <th></th>\n",
       "      <th>Alpha</th>\n",
       "      <th>Beta</th>\n",
       "    </tr>\n",
       "    <tr>\n",
       "      <th>Industry</th>\n",
       "      <th></th>\n",
       "      <th></th>\n",
       "    </tr>\n",
       "  </thead>\n",
       "  <tbody>\n",
       "    <tr>\n",
       "      <th>NoDur</th>\n",
       "      <td>0.369443</td>\n",
       "      <td>0.652647</td>\n",
       "    </tr>\n",
       "    <tr>\n",
       "      <th>Durbl</th>\n",
       "      <td>-0.415599</td>\n",
       "      <td>1.648536</td>\n",
       "    </tr>\n",
       "    <tr>\n",
       "      <th>Manuf</th>\n",
       "      <td>0.159771</td>\n",
       "      <td>1.169846</td>\n",
       "    </tr>\n",
       "    <tr>\n",
       "      <th>Enrgy</th>\n",
       "      <td>0.501719</td>\n",
       "      <td>0.969850</td>\n",
       "    </tr>\n",
       "    <tr>\n",
       "      <th>HiTec</th>\n",
       "      <td>-0.064020</td>\n",
       "      <td>1.132969</td>\n",
       "    </tr>\n",
       "    <tr>\n",
       "      <th>Telcm</th>\n",
       "      <td>0.194691</td>\n",
       "      <td>0.900729</td>\n",
       "    </tr>\n",
       "    <tr>\n",
       "      <th>Shops</th>\n",
       "      <td>0.275492</td>\n",
       "      <td>0.826492</td>\n",
       "    </tr>\n",
       "    <tr>\n",
       "      <th>Hlth</th>\n",
       "      <td>0.237841</td>\n",
       "      <td>0.673036</td>\n",
       "    </tr>\n",
       "    <tr>\n",
       "      <th>Utils</th>\n",
       "      <td>0.444585</td>\n",
       "      <td>0.538086</td>\n",
       "    </tr>\n",
       "    <tr>\n",
       "      <th>Other</th>\n",
       "      <td>-0.387135</td>\n",
       "      <td>1.207309</td>\n",
       "    </tr>\n",
       "  </tbody>\n",
       "</table>\n",
       "</div>"
      ],
      "text/plain": [
       "             Alpha      Beta\n",
       "Industry                    \n",
       "NoDur     0.369443  0.652647\n",
       "Durbl    -0.415599  1.648536\n",
       "Manuf     0.159771  1.169846\n",
       "Enrgy     0.501719  0.969850\n",
       "HiTec    -0.064020  1.132969\n",
       "Telcm     0.194691  0.900729\n",
       "Shops     0.275492  0.826492\n",
       "Hlth      0.237841  0.673036\n",
       "Utils     0.444585  0.538086\n",
       "Other    -0.387135  1.207309"
      ]
     },
     "execution_count": 23,
     "metadata": {},
     "output_type": "execute_result"
    }
   ],
   "source": [
    "new_df.set_index('Industry')"
   ]
  },
  {
   "cell_type": "markdown",
   "id": "7ff6816b-d2df-4665-8a2c-e0f3e4c1283c",
   "metadata": {},
   "source": [
    "# Question 2 - find the mean excess return (Ri)"
   ]
  },
  {
   "cell_type": "code",
   "execution_count": 25,
   "id": "26399581-4f9e-46d0-b07c-7b7f7a69c57e",
   "metadata": {},
   "outputs": [],
   "source": [
    "df4 = pd.DataFrame(df.mean())\n",
    "df4 = df4.rename(columns={0 : 'Ri'})"
   ]
  },
  {
   "cell_type": "code",
   "execution_count": 26,
   "id": "e2ee6843-85d3-4b1d-bee4-f664a4eaff8d",
   "metadata": {},
   "outputs": [
    {
     "data": {
      "text/html": [
       "<div>\n",
       "<style scoped>\n",
       "    .dataframe tbody tr th:only-of-type {\n",
       "        vertical-align: middle;\n",
       "    }\n",
       "\n",
       "    .dataframe tbody tr th {\n",
       "        vertical-align: top;\n",
       "    }\n",
       "\n",
       "    .dataframe thead th {\n",
       "        text-align: right;\n",
       "    }\n",
       "</style>\n",
       "<table border=\"1\" class=\"dataframe\">\n",
       "  <thead>\n",
       "    <tr style=\"text-align: right;\">\n",
       "      <th></th>\n",
       "      <th>Ri</th>\n",
       "    </tr>\n",
       "  </thead>\n",
       "  <tbody>\n",
       "    <tr>\n",
       "      <th>Market</th>\n",
       "      <td>0.748083</td>\n",
       "    </tr>\n",
       "    <tr>\n",
       "      <th>NoDur</th>\n",
       "      <td>0.902833</td>\n",
       "    </tr>\n",
       "    <tr>\n",
       "      <th>Durbl</th>\n",
       "      <td>0.733333</td>\n",
       "    </tr>\n",
       "    <tr>\n",
       "      <th>Manuf</th>\n",
       "      <td>1.012833</td>\n",
       "    </tr>\n",
       "    <tr>\n",
       "      <th>Enrgy</th>\n",
       "      <td>1.231167</td>\n",
       "    </tr>\n",
       "    <tr>\n",
       "      <th>HiTec</th>\n",
       "      <td>0.766250</td>\n",
       "    </tr>\n",
       "    <tr>\n",
       "      <th>Telcm</th>\n",
       "      <td>0.881417</td>\n",
       "    </tr>\n",
       "    <tr>\n",
       "      <th>Shops</th>\n",
       "      <td>0.916333</td>\n",
       "    </tr>\n",
       "    <tr>\n",
       "      <th>Hlth</th>\n",
       "      <td>0.783833</td>\n",
       "    </tr>\n",
       "    <tr>\n",
       "      <th>Utils</th>\n",
       "      <td>0.907167</td>\n",
       "    </tr>\n",
       "    <tr>\n",
       "      <th>Other</th>\n",
       "      <td>0.489083</td>\n",
       "    </tr>\n",
       "  </tbody>\n",
       "</table>\n",
       "</div>"
      ],
      "text/plain": [
       "              Ri\n",
       "Market  0.748083\n",
       "NoDur   0.902833\n",
       "Durbl   0.733333\n",
       "Manuf   1.012833\n",
       "Enrgy   1.231167\n",
       "HiTec   0.766250\n",
       "Telcm   0.881417\n",
       "Shops   0.916333\n",
       "Hlth    0.783833\n",
       "Utils   0.907167\n",
       "Other   0.489083"
      ]
     },
     "execution_count": 26,
     "metadata": {},
     "output_type": "execute_result"
    }
   ],
   "source": [
    "df4[['Ri']]"
   ]
  },
  {
   "cell_type": "code",
   "execution_count": 27,
   "id": "1e00bc52-c253-4a0b-99eb-26bcd8610a6d",
   "metadata": {},
   "outputs": [],
   "source": [
    "mean_ri = df.mean()"
   ]
  },
  {
   "cell_type": "code",
   "execution_count": 28,
   "id": "c74a054e-b078-4a79-809d-11f6756684c7",
   "metadata": {},
   "outputs": [
    {
     "data": {
      "text/plain": [
       "Market    0.748083\n",
       "NoDur     0.902833\n",
       "Durbl     0.733333\n",
       "Manuf     1.012833\n",
       "Enrgy     1.231167\n",
       "HiTec     0.766250\n",
       "Telcm     0.881417\n",
       "Shops     0.916333\n",
       "Hlth      0.783833\n",
       "Utils     0.907167\n",
       "Other     0.489083\n",
       "dtype: float64"
      ]
     },
     "execution_count": 28,
     "metadata": {},
     "output_type": "execute_result"
    }
   ],
   "source": [
    "mean_ri"
   ]
  },
  {
   "cell_type": "code",
   "execution_count": 29,
   "id": "ad9336f6-f800-40c3-8aa3-8f9d166f6e16",
   "metadata": {},
   "outputs": [],
   "source": [
    "Rf = 0.13"
   ]
  },
  {
   "cell_type": "code",
   "execution_count": 30,
   "id": "f8b6bd76-3f6b-49ce-a8fb-618ea049ec89",
   "metadata": {},
   "outputs": [],
   "source": [
    "excess_return = mean_ri - Rf"
   ]
  },
  {
   "cell_type": "code",
   "execution_count": 31,
   "id": "77e8b56a-b6ef-4374-94ba-c85eb9edb174",
   "metadata": {},
   "outputs": [
    {
     "data": {
      "text/plain": [
       "Market    0.618083\n",
       "NoDur     0.772833\n",
       "Durbl     0.603333\n",
       "Manuf     0.882833\n",
       "Enrgy     1.101167\n",
       "HiTec     0.636250\n",
       "Telcm     0.751417\n",
       "Shops     0.786333\n",
       "Hlth      0.653833\n",
       "Utils     0.777167\n",
       "Other     0.359083\n",
       "dtype: float64"
      ]
     },
     "execution_count": 31,
     "metadata": {},
     "output_type": "execute_result"
    }
   ],
   "source": [
    "excess_return"
   ]
  },
  {
   "cell_type": "code",
   "execution_count": 32,
   "id": "39ef9eb5-5ae4-45f1-823d-43eea6093133",
   "metadata": {},
   "outputs": [],
   "source": [
    "excess_market_return = excess_return['Market']"
   ]
  },
  {
   "cell_type": "code",
   "execution_count": 33,
   "id": "513f0092-897b-4865-8c6b-5ff989d7066a",
   "metadata": {},
   "outputs": [
    {
     "data": {
      "text/plain": [
       "0.6180833333333332"
      ]
     },
     "execution_count": 33,
     "metadata": {},
     "output_type": "execute_result"
    }
   ],
   "source": [
    "excess_market_return"
   ]
  },
  {
   "cell_type": "code",
   "execution_count": 34,
   "id": "7194ea97-e71c-4b24-9fcb-bb0be5b532dd",
   "metadata": {},
   "outputs": [],
   "source": [
    "df4['Ri-Rf'] = excess_return\n",
    "df4['Rm-Rf'] = excess_market_return"
   ]
  },
  {
   "cell_type": "code",
   "execution_count": 35,
   "id": "fe0595ac-7fbd-4dfe-8200-2324e46bd999",
   "metadata": {},
   "outputs": [
    {
     "data": {
      "text/html": [
       "<div>\n",
       "<style scoped>\n",
       "    .dataframe tbody tr th:only-of-type {\n",
       "        vertical-align: middle;\n",
       "    }\n",
       "\n",
       "    .dataframe tbody tr th {\n",
       "        vertical-align: top;\n",
       "    }\n",
       "\n",
       "    .dataframe thead th {\n",
       "        text-align: right;\n",
       "    }\n",
       "</style>\n",
       "<table border=\"1\" class=\"dataframe\">\n",
       "  <thead>\n",
       "    <tr style=\"text-align: right;\">\n",
       "      <th></th>\n",
       "      <th>Ri</th>\n",
       "      <th>Ri-Rf</th>\n",
       "      <th>Rm-Rf</th>\n",
       "    </tr>\n",
       "  </thead>\n",
       "  <tbody>\n",
       "    <tr>\n",
       "      <th>Market</th>\n",
       "      <td>0.748083</td>\n",
       "      <td>0.618083</td>\n",
       "      <td>0.618083</td>\n",
       "    </tr>\n",
       "    <tr>\n",
       "      <th>NoDur</th>\n",
       "      <td>0.902833</td>\n",
       "      <td>0.772833</td>\n",
       "      <td>0.618083</td>\n",
       "    </tr>\n",
       "    <tr>\n",
       "      <th>Durbl</th>\n",
       "      <td>0.733333</td>\n",
       "      <td>0.603333</td>\n",
       "      <td>0.618083</td>\n",
       "    </tr>\n",
       "    <tr>\n",
       "      <th>Manuf</th>\n",
       "      <td>1.012833</td>\n",
       "      <td>0.882833</td>\n",
       "      <td>0.618083</td>\n",
       "    </tr>\n",
       "    <tr>\n",
       "      <th>Enrgy</th>\n",
       "      <td>1.231167</td>\n",
       "      <td>1.101167</td>\n",
       "      <td>0.618083</td>\n",
       "    </tr>\n",
       "    <tr>\n",
       "      <th>HiTec</th>\n",
       "      <td>0.766250</td>\n",
       "      <td>0.636250</td>\n",
       "      <td>0.618083</td>\n",
       "    </tr>\n",
       "    <tr>\n",
       "      <th>Telcm</th>\n",
       "      <td>0.881417</td>\n",
       "      <td>0.751417</td>\n",
       "      <td>0.618083</td>\n",
       "    </tr>\n",
       "    <tr>\n",
       "      <th>Shops</th>\n",
       "      <td>0.916333</td>\n",
       "      <td>0.786333</td>\n",
       "      <td>0.618083</td>\n",
       "    </tr>\n",
       "    <tr>\n",
       "      <th>Hlth</th>\n",
       "      <td>0.783833</td>\n",
       "      <td>0.653833</td>\n",
       "      <td>0.618083</td>\n",
       "    </tr>\n",
       "    <tr>\n",
       "      <th>Utils</th>\n",
       "      <td>0.907167</td>\n",
       "      <td>0.777167</td>\n",
       "      <td>0.618083</td>\n",
       "    </tr>\n",
       "    <tr>\n",
       "      <th>Other</th>\n",
       "      <td>0.489083</td>\n",
       "      <td>0.359083</td>\n",
       "      <td>0.618083</td>\n",
       "    </tr>\n",
       "  </tbody>\n",
       "</table>\n",
       "</div>"
      ],
      "text/plain": [
       "              Ri     Ri-Rf     Rm-Rf\n",
       "Market  0.748083  0.618083  0.618083\n",
       "NoDur   0.902833  0.772833  0.618083\n",
       "Durbl   0.733333  0.603333  0.618083\n",
       "Manuf   1.012833  0.882833  0.618083\n",
       "Enrgy   1.231167  1.101167  0.618083\n",
       "HiTec   0.766250  0.636250  0.618083\n",
       "Telcm   0.881417  0.751417  0.618083\n",
       "Shops   0.916333  0.786333  0.618083\n",
       "Hlth    0.783833  0.653833  0.618083\n",
       "Utils   0.907167  0.777167  0.618083\n",
       "Other   0.489083  0.359083  0.618083"
      ]
     },
     "execution_count": 35,
     "metadata": {},
     "output_type": "execute_result"
    }
   ],
   "source": [
    "df4"
   ]
  },
  {
   "cell_type": "code",
   "execution_count": 36,
   "id": "cde9add8-2fee-4494-976c-8ed42d07194a",
   "metadata": {},
   "outputs": [
    {
     "data": {
      "text/plain": [
       "['Market',\n",
       " 'NoDur',\n",
       " 'Durbl',\n",
       " 'Manuf',\n",
       " 'Enrgy',\n",
       " 'HiTec',\n",
       " 'Telcm',\n",
       " 'Shops',\n",
       " 'Hlth',\n",
       " 'Utils',\n",
       " 'Other']"
      ]
     },
     "execution_count": 36,
     "metadata": {},
     "output_type": "execute_result"
    }
   ],
   "source": [
    "industry_list = list(df.columns)\n",
    "industry_list"
   ]
  },
  {
   "cell_type": "code",
   "execution_count": 37,
   "id": "283a0860-3193-410e-8b31-f79c0334be37",
   "metadata": {},
   "outputs": [],
   "source": [
    "df5 = pd.DataFrame()\n",
    "df5['Industry'] = industry_list\n",
    "df5['Alpha'] = list(map(get_alpha, industry_list))\n",
    "df5['Beta'] = list(map(get_beta, industry_list))\n",
    "\n",
    "df5 = df5.set_index('Industry')"
   ]
  },
  {
   "cell_type": "code",
   "execution_count": 38,
   "id": "1e136555-67e8-4fbc-a34a-d8ca57722e43",
   "metadata": {},
   "outputs": [
    {
     "data": {
      "text/html": [
       "<div>\n",
       "<style scoped>\n",
       "    .dataframe tbody tr th:only-of-type {\n",
       "        vertical-align: middle;\n",
       "    }\n",
       "\n",
       "    .dataframe tbody tr th {\n",
       "        vertical-align: top;\n",
       "    }\n",
       "\n",
       "    .dataframe thead th {\n",
       "        text-align: right;\n",
       "    }\n",
       "</style>\n",
       "<table border=\"1\" class=\"dataframe\">\n",
       "  <thead>\n",
       "    <tr style=\"text-align: right;\">\n",
       "      <th></th>\n",
       "      <th>Alpha</th>\n",
       "      <th>Beta</th>\n",
       "      <th>Ri</th>\n",
       "      <th>Ri-Rf</th>\n",
       "      <th>Rm-Rf</th>\n",
       "    </tr>\n",
       "  </thead>\n",
       "  <tbody>\n",
       "    <tr>\n",
       "      <th>Market</th>\n",
       "      <td>0.000000</td>\n",
       "      <td>1.000000</td>\n",
       "      <td>0.748083</td>\n",
       "      <td>0.618083</td>\n",
       "      <td>0.618083</td>\n",
       "    </tr>\n",
       "    <tr>\n",
       "      <th>NoDur</th>\n",
       "      <td>0.369443</td>\n",
       "      <td>0.652647</td>\n",
       "      <td>0.902833</td>\n",
       "      <td>0.772833</td>\n",
       "      <td>0.618083</td>\n",
       "    </tr>\n",
       "    <tr>\n",
       "      <th>Durbl</th>\n",
       "      <td>-0.415599</td>\n",
       "      <td>1.648536</td>\n",
       "      <td>0.733333</td>\n",
       "      <td>0.603333</td>\n",
       "      <td>0.618083</td>\n",
       "    </tr>\n",
       "    <tr>\n",
       "      <th>Manuf</th>\n",
       "      <td>0.159771</td>\n",
       "      <td>1.169846</td>\n",
       "      <td>1.012833</td>\n",
       "      <td>0.882833</td>\n",
       "      <td>0.618083</td>\n",
       "    </tr>\n",
       "    <tr>\n",
       "      <th>Enrgy</th>\n",
       "      <td>0.501719</td>\n",
       "      <td>0.969850</td>\n",
       "      <td>1.231167</td>\n",
       "      <td>1.101167</td>\n",
       "      <td>0.618083</td>\n",
       "    </tr>\n",
       "    <tr>\n",
       "      <th>HiTec</th>\n",
       "      <td>-0.064020</td>\n",
       "      <td>1.132969</td>\n",
       "      <td>0.766250</td>\n",
       "      <td>0.636250</td>\n",
       "      <td>0.618083</td>\n",
       "    </tr>\n",
       "    <tr>\n",
       "      <th>Telcm</th>\n",
       "      <td>0.194691</td>\n",
       "      <td>0.900729</td>\n",
       "      <td>0.881417</td>\n",
       "      <td>0.751417</td>\n",
       "      <td>0.618083</td>\n",
       "    </tr>\n",
       "    <tr>\n",
       "      <th>Shops</th>\n",
       "      <td>0.275492</td>\n",
       "      <td>0.826492</td>\n",
       "      <td>0.916333</td>\n",
       "      <td>0.786333</td>\n",
       "      <td>0.618083</td>\n",
       "    </tr>\n",
       "    <tr>\n",
       "      <th>Hlth</th>\n",
       "      <td>0.237841</td>\n",
       "      <td>0.673036</td>\n",
       "      <td>0.783833</td>\n",
       "      <td>0.653833</td>\n",
       "      <td>0.618083</td>\n",
       "    </tr>\n",
       "    <tr>\n",
       "      <th>Utils</th>\n",
       "      <td>0.444585</td>\n",
       "      <td>0.538086</td>\n",
       "      <td>0.907167</td>\n",
       "      <td>0.777167</td>\n",
       "      <td>0.618083</td>\n",
       "    </tr>\n",
       "    <tr>\n",
       "      <th>Other</th>\n",
       "      <td>-0.387135</td>\n",
       "      <td>1.207309</td>\n",
       "      <td>0.489083</td>\n",
       "      <td>0.359083</td>\n",
       "      <td>0.618083</td>\n",
       "    </tr>\n",
       "  </tbody>\n",
       "</table>\n",
       "</div>"
      ],
      "text/plain": [
       "           Alpha      Beta        Ri     Ri-Rf     Rm-Rf\n",
       "Market  0.000000  1.000000  0.748083  0.618083  0.618083\n",
       "NoDur   0.369443  0.652647  0.902833  0.772833  0.618083\n",
       "Durbl  -0.415599  1.648536  0.733333  0.603333  0.618083\n",
       "Manuf   0.159771  1.169846  1.012833  0.882833  0.618083\n",
       "Enrgy   0.501719  0.969850  1.231167  1.101167  0.618083\n",
       "HiTec  -0.064020  1.132969  0.766250  0.636250  0.618083\n",
       "Telcm   0.194691  0.900729  0.881417  0.751417  0.618083\n",
       "Shops   0.275492  0.826492  0.916333  0.786333  0.618083\n",
       "Hlth    0.237841  0.673036  0.783833  0.653833  0.618083\n",
       "Utils   0.444585  0.538086  0.907167  0.777167  0.618083\n",
       "Other  -0.387135  1.207309  0.489083  0.359083  0.618083"
      ]
     },
     "execution_count": 38,
     "metadata": {},
     "output_type": "execute_result"
    }
   ],
   "source": [
    "df6 = pd.concat([df5, df4], axis = 1)\n",
    "df6"
   ]
  },
  {
   "cell_type": "code",
   "execution_count": 39,
   "id": "4d847275-3176-413e-911b-362cdae96ef0",
   "metadata": {},
   "outputs": [],
   "source": [
    "betas = df6.Beta.to_numpy()\n",
    "mean_ri = df6.Ri.to_numpy()"
   ]
  },
  {
   "cell_type": "markdown",
   "id": "b999e308-3be2-4d18-8cbc-4622b5d1c571",
   "metadata": {},
   "source": [
    "> ## Regression!! np.polyfit(x,y,deg)"
   ]
  },
  {
   "cell_type": "code",
   "execution_count": 41,
   "id": "c8142295-7d62-4a34-9ddd-4e10abe15c66",
   "metadata": {},
   "outputs": [],
   "source": [
    "SML_gradient, SML_intercept = np.polyfit(betas, mean_ri, deg = 1)"
   ]
  },
  {
   "cell_type": "code",
   "execution_count": 42,
   "id": "4263db1f-f14c-4206-8110-28d628f99d55",
   "metadata": {},
   "outputs": [
    {
     "data": {
      "text/plain": [
       "-0.18546745836573272"
      ]
     },
     "execution_count": 42,
     "metadata": {},
     "output_type": "execute_result"
    }
   ],
   "source": [
    "SML_gradient"
   ]
  },
  {
   "cell_type": "code",
   "execution_count": 43,
   "id": "3360047e-0499-4200-8034-32a599176014",
   "metadata": {},
   "outputs": [
    {
     "data": {
      "text/plain": [
       "1.0327683682657056"
      ]
     },
     "execution_count": 43,
     "metadata": {},
     "output_type": "execute_result"
    }
   ],
   "source": [
    "SML_intercept"
   ]
  },
  {
   "cell_type": "code",
   "execution_count": 44,
   "id": "e3f08237-35f6-48d5-8f83-217af5a7b461",
   "metadata": {},
   "outputs": [
    {
     "data": {
      "text/plain": [
       "[0, 2]"
      ]
     },
     "execution_count": 44,
     "metadata": {},
     "output_type": "execute_result"
    }
   ],
   "source": [
    "beta_b = [0,2]             #TUNE!!\n",
    "beta_b"
   ]
  },
  {
   "cell_type": "code",
   "execution_count": 45,
   "id": "f36158a3-36d3-467a-9b37-2879c05ce644",
   "metadata": {},
   "outputs": [
    {
     "data": {
      "text/plain": [
       "[1.0327683682657056, 0.6618334515342401]"
      ]
     },
     "execution_count": 45,
     "metadata": {},
     "output_type": "execute_result"
    }
   ],
   "source": [
    "list_y = list()\n",
    "\n",
    "for x in beta_b:\n",
    "    y = SML_intercept + (SML_gradient * (x - 0))        #Y - Y0 = M (X - X0)\n",
    "    list_y.append(y)\n",
    "\n",
    "list_y"
   ]
  },
  {
   "cell_type": "code",
   "execution_count": 46,
   "id": "5bdb5c41-8f57-4445-8ccb-99572086cc2b",
   "metadata": {},
   "outputs": [
    {
     "data": {
      "text/plain": [
       "Text(0.5, 1.0, 'Security Market Line of 10 Industries and Market Portfolio')"
      ]
     },
     "execution_count": 46,
     "metadata": {},
     "output_type": "execute_result"
    },
    {
     "data": {
      "image/png": "[encoded data removed]",
      "text/plain": [
       "<Figure size 1000x600 with 1 Axes>"
      ]
     },
     "metadata": {},
     "output_type": "display_data"
    }
   ],
   "source": [
    "plt.figure(figsize = [10,6])\n",
    "plt.plot(beta_b, list_y, label = 'Security Market Line')\n",
    "plt.legend()\n",
    "\n",
    "plt.grid()\n",
    "\n",
    "plt.xlim(0,2)\n",
    "plt.ylim(0, 1.2)\n",
    "\n",
    "plt.xlabel('Beta')\n",
    "plt.ylabel('Expected Monthly Return (%)')\n",
    "\n",
    "plt.title('Security Market Line of 10 Industries and Market Portfolio')"
   ]
  },
  {
   "cell_type": "code",
   "execution_count": 47,
   "id": "1f761d75-cbb7-47ae-aa2f-72764e9bca47",
   "metadata": {},
   "outputs": [
    {
     "data": {
      "text/plain": [
       "<matplotlib.legend.Legend at 0x14f2adee0>"
      ]
     },
     "execution_count": 47,
     "metadata": {},
     "output_type": "execute_result"
    },
    {
     "data": {
      "image/png": "[encoded data removed]",
      "text/plain": [
       "<Figure size 1000x600 with 1 Axes>"
      ]
     },
     "metadata": {},
     "output_type": "display_data"
    }
   ],
   "source": [
    "plt.figure(figsize = [10,6])\n",
    "plt.plot(beta_b, list_y, label = 'Security Market Line')\n",
    "\n",
    "\n",
    "plt.grid()\n",
    "\n",
    "plt.xlim(0,2)\n",
    "plt.ylim(0,1.5)\n",
    "\n",
    "plt.xlabel('Beta')\n",
    "plt.ylabel('Expected Monthly Return (%)')\n",
    "\n",
    "plt.title('Security Market Line of 10 Industries and Market Portfolio')\n",
    "\n",
    "plt.scatter(betas[0], mean_ri[0], color = 'red', label = 'Market Portfolio')\n",
    "\n",
    "plt.scatter(betas[1:], mean_ri[1:], color = 'green', label = 'Industry Portfolio')\n",
    "\n",
    "# Add labels for each point\n",
    "for i, label in enumerate(industry_list):\n",
    "    plt.text(betas[i], mean_ri[i], label, fontsize=9)\n",
    "    \n",
    "plt.legend()"
   ]
  },
  {
   "cell_type": "code",
   "execution_count": null,
   "id": "df73be9f-474e-48e4-a3bc-c95dbc6c9efb",
   "metadata": {},
   "outputs": [],
   "source": []
  }
 ],
 "metadata": {
  "kernelspec": {
   "display_name": "Python 3 (ipykernel)",
   "language": "python",
   "name": "python3"
  },
  "language_info": {
   "codemirror_mode": {
    "name": "ipython",
    "version": 3
   },
   "file_extension": ".py",
   "mimetype": "text/x-python",
   "name": "python",
   "nbconvert_exporter": "python",
   "pygments_lexer": "ipython3",
   "version": "3.12.4"
  }
 },
 "nbformat": 4,
 "nbformat_minor": 5
}
